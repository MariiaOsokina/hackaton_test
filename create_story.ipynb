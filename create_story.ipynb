{
 "cells": [
  {
   "cell_type": "markdown",
   "metadata": {},
   "source": [
    "# The Game Description: \n",
    "create your own story and read it"
   ]
  },
  {
   "cell_type": "markdown",
   "metadata": {},
   "source": [
    "# Step 1: Athropic import\n",
    "import our api_key to project"
   ]
  },
  {
   "cell_type": "code",
   "execution_count": 1,
   "metadata": {},
   "outputs": [],
   "source": [
    "from dotenv import load_dotenv\n",
    "import os\n",
    "from anthropic import Anthropic\n",
    "# import base64\n",
    "\n",
    "#load environment variable\n",
    "load_dotenv()\n",
    "my_api_key = os.getenv(\"ANTHROPIC_API_KEY\")\n",
    "client = Anthropic()"
   ]
  },
  {
   "cell_type": "code",
   "execution_count": 2,
   "metadata": {},
   "outputs": [
    {
     "name": "stdout",
     "output_type": "stream",
     "text": [
      "test\n"
     ]
    }
   ],
   "source": [
    "print(\"test\")"
   ]
  },
  {
   "cell_type": "markdown",
   "metadata": {},
   "source": [
    "# Step 2: Write requirements for the prompt"
   ]
  },
  {
   "cell_type": "markdown",
   "metadata": {},
   "source": [
    "## Write System prompt\n",
    "// add short description, why we need it."
   ]
  },
  {
   "cell_type": "code",
   "execution_count": 3,
   "metadata": {},
   "outputs": [],
   "source": [
    "system_prompt = \"\"\"\n",
    "You are an AI assistant and an expert in the education field and learning phonics.  The student is learning phonics in the UK.\n",
    "\"\"\""
   ]
  },
  {
   "cell_type": "markdown",
   "metadata": {},
   "source": [
    "## Choose Anthropic Model\n",
    "\n",
    "claude-3-5-sonnet-20240620 is better because [add explaination]...."
   ]
  },
  {
   "cell_type": "code",
   "execution_count": 4,
   "metadata": {},
   "outputs": [],
   "source": [
    "MODEL = \"claude-3-5-sonnet-20240620\""
   ]
  },
  {
   "cell_type": "markdown",
   "metadata": {},
   "source": [
    "## Target group\n",
    "// get this info from SH TR Dataset"
   ]
  },
  {
   "cell_type": "code",
   "execution_count": 5,
   "metadata": {},
   "outputs": [],
   "source": [
    "target_group = \"adults (20-30 years old) who have a struggle with reading\""
   ]
  },
  {
   "cell_type": "markdown",
   "metadata": {},
   "source": [
    "# Determine the Student's Level\n",
    "We get information about the learner's milestone from the Turning Pages dataset.\n",
    "Then, we find the Level(i.e. number of Manual, pdf book)"
   ]
  },
  {
   "cell_type": "code",
   "execution_count": 6,
   "metadata": {},
   "outputs": [],
   "source": [
    "leaners_milestone = 8"
   ]
  },
  {
   "cell_type": "code",
   "execution_count": 7,
   "metadata": {},
   "outputs": [],
   "source": [
    "def find_level_by_milestone(data, target_milestone):\n",
    "    for level_key, level_data in data.items():\n",
    "        milestone_range = level_data.get(\"milestone_range\")\n",
    "        if milestone_range and milestone_range[\"start\"] <= target_milestone <= milestone_range[\"end\"]:\n",
    "            return level_key\n",
    "    return None"
   ]
  },
  {
   "cell_type": "code",
   "execution_count": 8,
   "metadata": {},
   "outputs": [],
   "source": [
    "import json\n",
    "\n",
    "with open(\"curriculum.json\", encoding=\"utf-8\") as file:\n",
    "    data = json.load(file)\n"
   ]
  },
  {
   "cell_type": "code",
   "execution_count": 9,
   "metadata": {},
   "outputs": [
    {
     "name": "stdout",
     "output_type": "stream",
     "text": [
      "Level_3\n"
     ]
    }
   ],
   "source": [
    "learners_level = find_level_by_milestone(data, leaners_milestone)\n",
    "print(learners_level)"
   ]
  },
  {
   "cell_type": "markdown",
   "metadata": {},
   "source": [
    "We build the list of sight words and list of phonics that the Learner already knows."
   ]
  },
  {
   "cell_type": "code",
   "execution_count": 11,
   "metadata": {},
   "outputs": [],
   "source": [
    "def get_sight_words_string(level, json_data):\n",
    "    try:\n",
    "        # Extract the level number from the input level\n",
    "        target_level_num = int(level.split('_')[1])\n",
    "        \n",
    "        # Initialize an empty list to store all sight words\n",
    "        all_sight_words = []\n",
    "        \n",
    "        # Iterate through levels up to the target level\n",
    "        for i in range(1, target_level_num + 1):\n",
    "            current_level = f\"Level_{i}\"\n",
    "            if current_level in json_data:\n",
    "                sight_words = json_data[current_level][\"lvl__sight_words\"]\n",
    "                all_sight_words.extend(sight_words)\n",
    "        \n",
    "        # Join the words with commas\n",
    "        return \", \".join(all_sight_words)\n",
    "    except (KeyError, ValueError):\n",
    "        return f\"Error: {level} not found in the data or invalid level format\""
   ]
  },
  {
   "cell_type": "code",
   "execution_count": 12,
   "metadata": {},
   "outputs": [],
   "source": [
    "import json\n",
    "\n",
    "def get_phonics_string(level, json_data):\n",
    "    # Initialize result string\n",
    "    result = \"\"\n",
    "    \n",
    "    # Loop through all levels up to the specified level\n",
    "    for i in range(1, int(level.split('_')[1]) + 1):\n",
    "        current_level = f\"Level_{i}\"\n",
    "        if current_level in json_data:\n",
    "            # Add level header\n",
    "            result += f\"Level {i} - phonics (with examples): \"\n",
    "            \n",
    "            # Get phonics examples\n",
    "            phonics_data = json_data[current_level]['lvl__phonics']\n",
    "            \n",
    "            if 'examples' in phonics_data:\n",
    "                examples = phonics_data['examples']\n",
    "            \n",
    "            # Create phonics string\n",
    "            phonics_list = []\n",
    "            for phonic, example_list in examples.items():\n",
    "                examples_str = '\", \"'.join(example_list)\n",
    "                phonics_list.append(f'\"{phonic}\" (\"{examples_str}\")')\n",
    "            \n",
    "            result += \", \".join(phonics_list)\n",
    "            result += \"\\n\"\n",
    "    return result\n"
   ]
  },
  {
   "cell_type": "code",
   "execution_count": 13,
   "metadata": {},
   "outputs": [
    {
     "name": "stdout",
     "output_type": "stream",
     "text": [
      "the, what, no, to, have, go, I, you, they, was, for, all, he, of, put, she, do, I'm, me, are, could, be, my, would, we, time, there, out, day, about, don't, her, come, where, call, some, when, want, down, who, here, were, give, after, know, your, before, so, work, love, their, one, over, sure, two, knew, because, only, woman, done, does, other\n"
     ]
    }
   ],
   "source": [
    "list_of_sight_words = get_sight_words_string(learners_level, data)\n",
    "print(list_of_sight_words)"
   ]
  },
  {
   "cell_type": "code",
   "execution_count": 14,
   "metadata": {},
   "outputs": [
    {
     "name": "stdout",
     "output_type": "stream",
     "text": [
      "Level 1 - phonics (with examples): \"a\" (\"cat\"), \"b\" (\"bun\"), \"c\" (\"cow\"), \"d\" (\"dog\"), \"e\" (\"leg\"), \"f\" (\"fat\"), \"g\" (\"bag\"), \"h\" (\"hand\"), \"i\" (\"in\"), \"j\" (\"jug\"), \"l\" (\"lip\"), \"m\" (\"men\"), \"n\" (\"not\"), \"o\" (\"pot\"), \"p\" (\"hop\"), \"qu\" (\"quick\"), \"r\" (\"rib\"), \"s\" (\"sun\"), \"t\" (\"top\"), \"u\" (\"run\"), \"v\" (\"van\"), \"w\" (\"win\"), \"x(ks)\" (\"tax\"), \"y\" (\"yes\"), \"z\" (\"zip\"), \"th\" (\"then\"), \"ch\" (\"chop\"), \"sh\" (\"rush\"), \"ng\" (\"rang\"), \"nk\" (\"rank\"), \"ll\" (\"full\")\n",
      "Level 2 - phonics (with examples): \"b\" (\"rabbit\"), \"c\" (\"luck\"), \"d\" (\"add\"), \"f\" (\"stiff\"), \"g\" (\"egg\"), \"m\" (\"comma\"), \"n\" (\"sunny\"), \"p\" (\"happy\"), \"r\" (\"horrid\"), \"t\" (\"potted\"), \"w\" (\"when\"), \"z\" (\"jazz\"), \"th\" (\"moth\"), \"ar\" (\"card\"), \"s\" (\"mess\")\n",
      "Level 3 - phonics (with examples): \"c\" (\"kite\"), \"e\" (\"head\"), \"j\" (\"giant\"), \"s\" (\"city\"), \"(Long) ā\" (\"tame\", \"rain\", \"day\"), \"(Long) ē\" (\"very\", \"tree\", \"tea\"), \"(Long) ō\" (\"note\", \"boat\", \"grow\"), \"(Long) ī\" (\"like\", \"my\", \"fight\"), \"(Long) ū\" (\"shoot\", \"book\", \"cue\"), \"er\" (\"letter\", \"burn\", \"bird\"), \"ow\" (\"house\", \"cow\"), \"oi\" (\"soil\", \"boy\")\n",
      "\n"
     ]
    }
   ],
   "source": [
    "list_of_phonics = get_phonics_string(learners_level, data)\n",
    "print(list_of_phonics)"
   ]
  },
  {
   "cell_type": "code",
   "execution_count": 15,
   "metadata": {},
   "outputs": [
    {
     "name": "stdout",
     "output_type": "stream",
     "text": [
      "The student has learned and can read these English phonics: Level 1 - phonics (with examples): \"a\" (\"cat\"), \"b\" (\"bun\"), \"c\" (\"cow\"), \"d\" (\"dog\"), \"e\" (\"leg\"), \"f\" (\"fat\"), \"g\" (\"bag\"), \"h\" (\"hand\"), \"i\" (\"in\"), \"j\" (\"jug\"), \"l\" (\"lip\"), \"m\" (\"men\"), \"n\" (\"not\"), \"o\" (\"pot\"), \"p\" (\"hop\"), \"qu\" (\"quick\"), \"r\" (\"rib\"), \"s\" (\"sun\"), \"t\" (\"top\"), \"u\" (\"run\"), \"v\" (\"van\"), \"w\" (\"win\"), \"x(ks)\" (\"tax\"), \"y\" (\"yes\"), \"z\" (\"zip\"), \"th\" (\"then\"), \"ch\" (\"chop\"), \"sh\" (\"rush\"), \"ng\" (\"rang\"), \"nk\" (\"rank\"), \"ll\" (\"full\")\n",
      "Level 2 - phonics (with examples): \"b\" (\"rabbit\"), \"c\" (\"luck\"), \"d\" (\"add\"), \"f\" (\"stiff\"), \"g\" (\"egg\"), \"m\" (\"comma\"), \"n\" (\"sunny\"), \"p\" (\"happy\"), \"r\" (\"horrid\"), \"t\" (\"potted\"), \"w\" (\"when\"), \"z\" (\"jazz\"), \"th\" (\"moth\"), \"ar\" (\"card\"), \"s\" (\"mess\")\n",
      "Level 3 - phonics (with examples): \"c\" (\"kite\"), \"e\" (\"head\"), \"j\" (\"giant\"), \"s\" (\"city\"), \"(Long) ā\" (\"tame\", \"rain\", \"day\"), \"(Long) ē\" (\"very\", \"tree\", \"tea\"), \"(Long) ō\" (\"note\", \"boat\", \"grow\"), \"(Long) ī\" (\"like\", \"my\", \"fight\"), \"(Long) ū\" (\"shoot\", \"book\", \"cue\"), \"er\" (\"letter\", \"burn\", \"bird\"), \"ow\" (\"house\", \"cow\"), \"oi\" (\"soil\", \"boy\")\n",
      ".Please note that it should be phonics(sounds), not only letters.The learner can read the following sight words: the, what, no, to, have, go, I, you, they, was, for, all, he, of, put, she, do, I'm, me, are, could, be, my, would, we, time, there, out, day, about, don't, her, come, where, call, some, when, want, down, who, here, were, give, after, know, your, before, so, work, love, their, one, over, sure, two, knew, because, only, woman, done, does, other.\n"
     ]
    }
   ],
   "source": [
    "level_description = f\"The student has learned and can read these English phonics: {list_of_phonics}.\\\n",
    "Please note that it should be phonics(sounds), not only letters.\\\n",
    "The learner can read the following sight words: {list_of_sight_words}.\"\n",
    "\n",
    "print(level_description)"
   ]
  },
  {
   "cell_type": "markdown",
   "metadata": {},
   "source": [
    "## List of Hard Words\n",
    "///build this list ...\n",
    "///think how ..."
   ]
  },
  {
   "cell_type": "code",
   "execution_count": 16,
   "metadata": {},
   "outputs": [],
   "source": [
    "hard_words = \"people, Mr, Mrs, looked, called\""
   ]
  },
  {
   "cell_type": "markdown",
   "metadata": {},
   "source": [
    "## Text Topic\n",
    "Student can choose the topic from the list.\n",
    "// think about the topics// ask AI to give some ideas."
   ]
  },
  {
   "cell_type": "code",
   "execution_count": 21,
   "metadata": {},
   "outputs": [],
   "source": [
    "story_topic = \"geography\""
   ]
  },
  {
   "cell_type": "markdown",
   "metadata": {},
   "source": [
    "## Text Style\n",
    "Student can choose the style from the list.\n",
    "// think about the topics// ask AI to give some ideas."
   ]
  },
  {
   "cell_type": "code",
   "execution_count": 20,
   "metadata": {},
   "outputs": [],
   "source": [
    "story_style = \"poem\""
   ]
  },
  {
   "cell_type": "markdown",
   "metadata": {},
   "source": [
    "# Step 3: Build Requirements for the story:\n"
   ]
  },
  {
   "cell_type": "code",
   "execution_count": 18,
   "metadata": {},
   "outputs": [],
   "source": [
    "words_max = 150\n",
    "words_min  = 70\n",
    "hard_wd_per = 10"
   ]
  },
  {
   "cell_type": "code",
   "execution_count": 22,
   "metadata": {},
   "outputs": [],
   "source": [
    "story_requirements = f\"\"\"\n",
    "\n",
    "- write the title at the beginning of the story;\n",
    "- a maximum amount of words should be {words_max} and minimum amount of words should be {words_min};\n",
    "- the text must include {hard_wd_per} percent of words based on these phonics patterns: {hard_words};\n",
    "- the text should be based on this learner's reading level: {level_description};\n",
    "- the text should be based on this chosen text topic  {story_topic};\n",
    "- the text should be in this style: {story_style};\n",
    "- the target group is a learner who is {target_group}.\n",
    "\"\"\""
   ]
  },
  {
   "cell_type": "code",
   "execution_count": 23,
   "metadata": {},
   "outputs": [
    {
     "name": "stdout",
     "output_type": "stream",
     "text": [
      "\n",
      "\n",
      "- write the title at the beginning of the story;\n",
      "- a maximum amount of words should be 150 and minimum amount of words should be 70;\n",
      "- the text must include 10 percent of words based on these phonics patterns: people, Mr, Mrs, looked, called;\n",
      "- the text should be based on this learner's reading level: The student has learned and can read these English phonics: Level 1 - phonics (with examples): \"a\" (\"cat\"), \"b\" (\"bun\"), \"c\" (\"cow\"), \"d\" (\"dog\"), \"e\" (\"leg\"), \"f\" (\"fat\"), \"g\" (\"bag\"), \"h\" (\"hand\"), \"i\" (\"in\"), \"j\" (\"jug\"), \"l\" (\"lip\"), \"m\" (\"men\"), \"n\" (\"not\"), \"o\" (\"pot\"), \"p\" (\"hop\"), \"qu\" (\"quick\"), \"r\" (\"rib\"), \"s\" (\"sun\"), \"t\" (\"top\"), \"u\" (\"run\"), \"v\" (\"van\"), \"w\" (\"win\"), \"x(ks)\" (\"tax\"), \"y\" (\"yes\"), \"z\" (\"zip\"), \"th\" (\"then\"), \"ch\" (\"chop\"), \"sh\" (\"rush\"), \"ng\" (\"rang\"), \"nk\" (\"rank\"), \"ll\" (\"full\")\n",
      "Level 2 - phonics (with examples): \"b\" (\"rabbit\"), \"c\" (\"luck\"), \"d\" (\"add\"), \"f\" (\"stiff\"), \"g\" (\"egg\"), \"m\" (\"comma\"), \"n\" (\"sunny\"), \"p\" (\"happy\"), \"r\" (\"horrid\"), \"t\" (\"potted\"), \"w\" (\"when\"), \"z\" (\"jazz\"), \"th\" (\"moth\"), \"ar\" (\"card\"), \"s\" (\"mess\")\n",
      "Level 3 - phonics (with examples): \"c\" (\"kite\"), \"e\" (\"head\"), \"j\" (\"giant\"), \"s\" (\"city\"), \"(Long) ā\" (\"tame\", \"rain\", \"day\"), \"(Long) ē\" (\"very\", \"tree\", \"tea\"), \"(Long) ō\" (\"note\", \"boat\", \"grow\"), \"(Long) ī\" (\"like\", \"my\", \"fight\"), \"(Long) ū\" (\"shoot\", \"book\", \"cue\"), \"er\" (\"letter\", \"burn\", \"bird\"), \"ow\" (\"house\", \"cow\"), \"oi\" (\"soil\", \"boy\")\n",
      ".Please note that it should be phonics(sounds), not only letters.The learner can read the following sight words: the, what, no, to, have, go, I, you, they, was, for, all, he, of, put, she, do, I'm, me, are, could, be, my, would, we, time, there, out, day, about, don't, her, come, where, call, some, when, want, down, who, here, were, give, after, know, your, before, so, work, love, their, one, over, sure, two, knew, because, only, woman, done, does, other.;\n",
      "- the text should be based on this chosen text topic  geography;\n",
      "- the text should be in this style: poem;\n",
      "- the target group is a learner who is adults (20-30 years old) who have a struggle with reading.\n",
      "\n"
     ]
    }
   ],
   "source": [
    "print(story_requirements)"
   ]
  },
  {
   "cell_type": "markdown",
   "metadata": {},
   "source": [
    "# Step 4: AI response - a format of the story\n",
    "\n"
   ]
  },
  {
   "cell_type": "code",
   "execution_count": null,
   "metadata": {},
   "outputs": [],
   "source": [
    "# with open('data.json', 'r') as file:\n",
    "#     resp_format = file.read()\n",
    "\n",
    "# resp_format = f\"\"\"Please analyze this JSON. This is an example of format of you response:\n",
    "# ```json\n",
    "# {resp_format}"
   ]
  },
  {
   "cell_type": "code",
   "execution_count": 24,
   "metadata": {},
   "outputs": [],
   "source": [
    "story_format = \"\"\"\n",
    "Title: write the title of the story\n",
    "Text: write the text of the story\n",
    "Hard_words: please list here all the words in the text from this list {hard_words}\n",
    "words_number: add\n",
    "\"\"\"\n"
   ]
  },
  {
   "cell_type": "code",
   "execution_count": 25,
   "metadata": {},
   "outputs": [
    {
     "name": "stdout",
     "output_type": "stream",
     "text": [
      "\n",
      "Title: write the title of the story\n",
      "Text: write the text of the story\n",
      "Hard_words: please list here all the words in the text from this list {hard_words}\n",
      "words_number: add\n",
      "\n"
     ]
    }
   ],
   "source": [
    "print(story_format)"
   ]
  },
  {
   "cell_type": "code",
   "execution_count": null,
   "metadata": {},
   "outputs": [],
   "source": [
    "#app_description = \"...\""
   ]
  },
  {
   "cell_type": "markdown",
   "metadata": {},
   "source": [
    "# Step 5: Generate the prompt"
   ]
  },
  {
   "cell_type": "code",
   "execution_count": 26,
   "metadata": {},
   "outputs": [],
   "source": [
    "def generate_story():\n",
    "    response = client.messages.create(\n",
    "      model=MODEL,\n",
    "      max_tokens=500,\n",
    "      system = system_prompt,\n",
    "      messages=[\n",
    "        {\"role\": \"user\",\n",
    "        \"content\": f\"\"\"\n",
    "        Please generate the story for testing learner's skills to read in English.\n",
    "        The Story should follow the following requirements: {story_requirements} .\n",
    "        Please write the story as your response in the JSON format: {story_format}.\n",
    "        In the response should be just the Story.\n",
    "\"\"\"\n",
    "        }\n",
    "      ],\n",
    "    )\n",
    "    return (response)\n",
    "\n"
   ]
  },
  {
   "cell_type": "code",
   "execution_count": 27,
   "metadata": {},
   "outputs": [],
   "source": [
    "story_response= generate_story()\n",
    "story_json = story_response.content[0].text"
   ]
  },
  {
   "cell_type": "code",
   "execution_count": 28,
   "metadata": {},
   "outputs": [
    {
     "name": "stdout",
     "output_type": "stream",
     "text": [
      "Message(id='msg_01QCf4JGmmP9zAqjwtkfWpwc', content=[TextBlock(text='{\\n  \"Title\": \"The World We See\",\\n  \"Text\": \"People looked at maps,\\nMrs. Brown called her class.\\n\\'The world is big,\\' she said,\\n\\'From land to sea, it\\'s vast.\\'\\n\\nMr. Smith showed them hills,\\nAnd rivers that run deep.\\nThey saw lakes and forests,\\nAnd mountains oh so steep.\\n\\nThe class looked at cities,\\nWhere people rush and go.\\nThey called out the names,\\nOf places they now know.\\n\\nFrom hot to cold, they learned,\\nAbout the Earth we share.\\nA world of wonder waits,\\nFor those who look with care.\",\\n  \"Hard_words\": [\"people\", \"looked\", \"Mrs\", \"called\", \"Mr\"],\\n  \"words_number\": 82\\n}', type='text')], model='claude-3-5-sonnet-20240620', role='assistant', stop_reason='end_turn', stop_sequence=None, type='message', usage=Usage(input_tokens=895, output_tokens=177))\n",
      "{\n",
      "  \"Title\": \"The World We See\",\n",
      "  \"Text\": \"People looked at maps,\n",
      "Mrs. Brown called her class.\n",
      "'The world is big,' she said,\n",
      "'From land to sea, it's vast.'\n",
      "\n",
      "Mr. Smith showed them hills,\n",
      "And rivers that run deep.\n",
      "They saw lakes and forests,\n",
      "And mountains oh so steep.\n",
      "\n",
      "The class looked at cities,\n",
      "Where people rush and go.\n",
      "They called out the names,\n",
      "Of places they now know.\n",
      "\n",
      "From hot to cold, they learned,\n",
      "About the Earth we share.\n",
      "A world of wonder waits,\n",
      "For those who look with care.\",\n",
      "  \"Hard_words\": [\"people\", \"looked\", \"Mrs\", \"called\", \"Mr\"],\n",
      "  \"words_number\": 82\n",
      "}\n"
     ]
    }
   ],
   "source": [
    "print (story_response)\n",
    "print(story_json)"
   ]
  },
  {
   "cell_type": "markdown",
   "metadata": {},
   "source": [
    "Tests:"
   ]
  },
  {
   "cell_type": "code",
   "execution_count": 38,
   "metadata": {},
   "outputs": [
    {
     "name": "stdout",
     "output_type": "stream",
     "text": [
      "Message(id='msg_018ERjYLmo7B1M1eSASkQx9q', content=[TextBlock(text='{\\n  \"Title\": \"Earth\\'s Journey\",\\n  \"Text\": \"Our planet Earth, a wondrous sphere,\\\\nSpins and turns through every year.\\\\nMountains tower, rivers flow,\\\\nDeserts burn and glaciers grow.\\\\n\\\\nFrom pole to pole, a diverse land,\\\\nOceans deep and forests grand.\\\\nVolcanoes rumble, earthquakes shake,\\\\nNature\\'s power, no mistake.\\\\n\\\\nContinents drift, slowly they move,\\\\nLike dancers in a cosmic groove.\\\\nClimate patterns shift and change,\\\\nWeather systems rearrange.\\\\n\\\\nHumans settle, cities rise,\\\\nCultures bloom beneath the skies.\\\\nWe learn to care for Earth, our home,\\\\nAs through the galaxy we roam.\",\\n  \"Hard_words\": [],\\n  \"words_number\": 76,\\n  \"Phonics_words\": [\"wondrous\", \"tower\", \"rivers\", \"deserts\", \"power\"]\\n}', type='text')], model='claude-3-5-sonnet-20240620', role='assistant', stop_reason='end_turn', stop_sequence=None, type='message', usage=Usage(input_tokens=324, output_tokens=232))\n"
     ]
    }
   ],
   "source": [
    "story_requirements = f\"\"\"\n",
    "\n",
    "- write the title at the beginning of the story;\n",
    "- a maximum amount of words should be {words_max} and minimum amount of words should be {words_min};\n",
    "- the text must include {hard_wd_per} percent of words based on these phonics patterns: \n",
    "phonics (with examples): \"er\" (\"letter\", \"burn\", \"bird\");\n",
    "Please note that it should be phonics(sounds), not only letters.\\\n",
    "\n",
    "- the text should be based on this chosen text topic  {story_topic};\n",
    "- the text should be in this style: {story_style};\n",
    "- the target group is a learner who is {target_group}.\n",
    "\"\"\"\n",
    "\n",
    "response = client.messages.create(\n",
    "    model=MODEL,\n",
    "    max_tokens=500,\n",
    "    system = system_prompt,\n",
    "    messages=[\n",
    "    {\"role\": \"user\",\n",
    "    \"content\": f\"\"\"\n",
    "    Please generate the story for testing learner's skills to read in English.\n",
    "    The Story should follow the following requirements: {story_requirements} .\n",
    "    Please write the story as your response in the JSON format: {story_format}.\n",
    "    Please list here all the words in the text with these phonics (with examples): \"er\" (\"letter\", \"burn\", \"bird\") {hard_words}\n",
    "\n",
    "    In the response should be just the Story.\n",
    "\"\"\"\n",
    "    }\n",
    "    ],\n",
    ")\n",
    "print (response)"
   ]
  },
  {
   "cell_type": "code",
   "execution_count": 39,
   "metadata": {},
   "outputs": [
    {
     "name": "stdout",
     "output_type": "stream",
     "text": [
      "{\n",
      "  \"Title\": \"Earth's Journey\",\n",
      "  \"Text\": \"Our planet Earth, a wondrous sphere,\\nSpins and turns through every year.\\nMountains tower, rivers flow,\\nDeserts burn and glaciers grow.\\n\\nFrom pole to pole, a diverse land,\\nOceans deep and forests grand.\\nVolcanoes rumble, earthquakes shake,\\nNature's power, no mistake.\\n\\nContinents drift, slowly they move,\\nLike dancers in a cosmic groove.\\nClimate patterns shift and change,\\nWeather systems rearrange.\\n\\nHumans settle, cities rise,\\nCultures bloom beneath the skies.\\nWe learn to care for Earth, our home,\\nAs through the galaxy we roam.\",\n",
      "  \"Hard_words\": [],\n",
      "  \"words_number\": 76,\n",
      "  \"Phonics_words\": [\"wondrous\", \"tower\", \"rivers\", \"deserts\", \"power\"]\n",
      "}\n"
     ]
    }
   ],
   "source": [
    "print(response.content[0].text)"
   ]
  }
 ],
 "metadata": {
  "kernelspec": {
   "display_name": "Python 3",
   "language": "python",
   "name": "python3"
  },
  "language_info": {
   "codemirror_mode": {
    "name": "ipython",
    "version": 3
   },
   "file_extension": ".py",
   "mimetype": "text/x-python",
   "name": "python",
   "nbconvert_exporter": "python",
   "pygments_lexer": "ipython3",
   "version": "3.12.7"
  }
 },
 "nbformat": 4,
 "nbformat_minor": 2
}
