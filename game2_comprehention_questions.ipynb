{
 "cells": [
  {
   "cell_type": "markdown",
   "metadata": {},
   "source": [
    "# The Game Description: Text comprehension  \n",
    "Answer to the questions to the text"
   ]
  },
  {
   "cell_type": "markdown",
   "metadata": {},
   "source": [
    "**Comprehension Game**\n",
    "\n",
    "Answer to the questions to the text"
   ]
  },
  {
   "cell_type": "markdown",
   "metadata": {},
   "source": [
    "**Step 1: Athropic import**"
   ]
  },
  {
   "cell_type": "code",
   "execution_count": 144,
   "metadata": {},
   "outputs": [],
   "source": [
    "from dotenv import load_dotenv\n",
    "import os\n",
    "from anthropic import Anthropic\n",
    "# import base64\n",
    "\n",
    "#load environment variable\n",
    "load_dotenv()\n",
    "my_api_key = os.getenv(\"ANTHROPIC_API_KEY\")\n",
    "client = Anthropic()"
   ]
  },
  {
   "cell_type": "code",
   "execution_count": 145,
   "metadata": {},
   "outputs": [],
   "source": [
    "# print(\"test python\")"
   ]
  },
  {
   "cell_type": "markdown",
   "metadata": {},
   "source": [
    "**Step 2: Choose the text**"
   ]
  },
  {
   "cell_type": "code",
   "execution_count": 146,
   "metadata": {},
   "outputs": [],
   "source": [
    "text1 = \"\"\"\n",
    "\"Title: \"The World We See\",\n",
    "  \"Text\": \"People looked at maps,\n",
    "Mrs. Brown called her class.\n",
    "'The world is big,' she said,\n",
    "'From land to sea, it's vast.'\n",
    "\n",
    "Mr. Smith showed them hills,\n",
    "And rivers that run deep.\n",
    "They saw lakes and forests,\n",
    "And mountains oh so steep.\n",
    "\n",
    "The class looked at cities,\n",
    "Where people rush and go.\n",
    "They called out the names,\n",
    "Of places they now know.\n",
    "\n",
    "From hot to cold, they learned,\n",
    "About the Earth we share.\n",
    "A world of wonder waits,\n",
    "For those who look with care.\",\n",
    "\"\"\""
   ]
  },
  {
   "cell_type": "code",
   "execution_count": 147,
   "metadata": {},
   "outputs": [],
   "source": [
    "text2 = \"\"\"\n",
    "\n",
    "This former US Marine was paralyzed when he injured his spine in a motorcycle accident in 2001. A short seven years later, Oz Sanchez became a paralympic athlete as a hand cyclist and triathlete. Representing the USA in Beijing in 2008, he won two medals. One was gold in the para-cycling time trial, and the other was a bronze medal in the road race.\n",
    "\n",
    "In 2009, Oz won the gold in the para-cycling time trial at the UCI Para-Cycling Road World Championships in Italy. The 2012 Paralympics saw him win the gold in the team relay and the bronze in the individual time trial. He also won two medals in 2016, silver in the mixed team relay and bronze in the time trial.\n",
    "\n",
    "If these five stellar athletes don’t inspire you to push through in spite of adversity and undesirable conditions, we don’t know what will.\n",
    "\n",
    "These examples of resilience and perseverance should give us all hope for the future and proof that anyone can do great things.\n",
    "\"\"\""
   ]
  },
  {
   "cell_type": "code",
   "execution_count": 148,
   "metadata": {},
   "outputs": [],
   "source": [
    "text3 = \"\"\"\n",
    "Hedgehogs are 20–25cm long and typically weigh up to 1.2kg. The hedgehog’s back and sides are covered in 25mm (1 inch) long spines (which are really modified hairs). \n",
    "These are absent from the face, chest, belly, throat and legs which are covered with a coarse, grey-brown fur. \n",
    "There are approximately 5,000-7,000 spines on an average adult hedgehog. What many people do not know is that a hedgehog has a small tail. \n",
    "\"\"\""
   ]
  },
  {
   "cell_type": "code",
   "execution_count": 149,
   "metadata": {},
   "outputs": [],
   "source": [
    "text4 = \"\"\"\n",
    "\n",
    "Stopping by Woods On a Snowy Evening” by Robert Frost\n",
    "\n",
    "Whose woods these are I think I know.\n",
    "\n",
    "His house is in the village though;\n",
    "\n",
    "He will not see me stopping here\n",
    "\n",
    "To watch his woods fill up with snow.\n",
    "\n",
    "My little horse must think it queer\n",
    "\n",
    "To stop without a farmhouse near\n",
    "\n",
    "Between the woods and frozen lake\n",
    "\n",
    "The darkest evening of the year.\n",
    "\n",
    "He gives his harness bells a shake\n",
    "\n",
    "To ask if there is some mistake.\n",
    "\n",
    "The only other sound’s the sweep\n",
    "\n",
    "Of easy wind and downy flake.\n",
    "\n",
    "The woods are lovely, dark and deep,\n",
    "\n",
    "But I have promises to keep,\n",
    "\n",
    "And miles to go before I sleep,\n",
    "\n",
    "And miles to go before I sleep.\n",
    "\n",
    "\"\"\""
   ]
  },
  {
   "cell_type": "code",
   "execution_count": 150,
   "metadata": {},
   "outputs": [],
   "source": [
    "prompt_text = text4"
   ]
  },
  {
   "cell_type": "markdown",
   "metadata": {},
   "source": [
    "**Step 3: Build the prompt requirements**"
   ]
  },
  {
   "cell_type": "code",
   "execution_count": 151,
   "metadata": {},
   "outputs": [],
   "source": [
    "system_prompt = \"\"\"\n",
    "You are an educational expert specialising in reading comprehension. \n",
    "The questions should help assess and improve their understanding of the text.\n",
    "\"\"\""
   ]
  },
  {
   "cell_type": "code",
   "execution_count": 152,
   "metadata": {},
   "outputs": [],
   "source": [
    "MODEL = \"claude-3-5-sonnet-20240620\""
   ]
  },
  {
   "cell_type": "code",
   "execution_count": 153,
   "metadata": {},
   "outputs": [],
   "source": [
    "target_group = \"adults (20-50 years) struggling with reading\""
   ]
  },
  {
   "cell_type": "code",
   "execution_count": 154,
   "metadata": {},
   "outputs": [],
   "source": [
    "q_number = 2"
   ]
  },
  {
   "cell_type": "code",
   "execution_count": 155,
   "metadata": {},
   "outputs": [],
   "source": [
    "q_types =\"\"\"\n",
    "- Basic comprehension\n",
    "- Vocabulary understanding\n",
    "- Main idea identification\n",
    "- Critical thinking\n",
    "\"\"\""
   ]
  },
  {
   "cell_type": "code",
   "execution_count": 156,
   "metadata": {},
   "outputs": [],
   "source": [
    "q_format = \"Multiple choice options (4 choices)\""
   ]
  },
  {
   "cell_type": "code",
   "execution_count": 157,
   "metadata": {},
   "outputs": [],
   "source": [
    "response_format = {\n",
    "    \"questions\": [\n",
    "        {\n",
    "            \"question_id\": \"1\",\n",
    "            \"question_type\": \"literal\",\n",
    "            \"question_text\": \"\",\n",
    "            \"options\": {\n",
    "                \"a\": \"\",\n",
    "                \"b\": \"\",\n",
    "                \"c\": \"\",\n",
    "                \"d\": \"\"\n",
    "            },\n",
    "            \"correct_answer\": \"\",\n",
    "            \"hint\": \"\",\n",
    "            \"explanation\": \"\",\n",
    "        }\n",
    "    ]\n",
    "}"
   ]
  },
  {
   "cell_type": "code",
   "execution_count": 158,
   "metadata": {},
   "outputs": [],
   "source": [
    "prompt_content = f\"\"\"Please generate this number of questions: {q_number}. \n",
    "Requirements:\n",
    "Review this text {prompt_text} and generate questions to it based on the following these guidelines:\\\n",
    "Randomly choose the type of questions from this list {q_types}\\\n",
    "Provide:\\\n",
    "   - The question\\\n",
    "   - Type\\\n",
    "   - Multiple choice options (4 choices)\\\n",
    "   - The correct answer\\\n",
    "   - Hint\\\n",
    "   - Explanation why this answer is correct\\\n",
    "Format each question in JSON structure like this {response_format}.\"\"\""
   ]
  },
  {
   "cell_type": "markdown",
   "metadata": {},
   "source": [
    "**Step 4: generate prompt**"
   ]
  },
  {
   "cell_type": "code",
   "execution_count": 159,
   "metadata": {},
   "outputs": [],
   "source": [
    "def generate_questions():\n",
    "    response = client.messages.create(\n",
    "      model=MODEL,\n",
    "      max_tokens=2000,\n",
    "      system = system_prompt,\n",
    "      messages=[\n",
    "        {\"role\": \"user\",\n",
    "        \"content\": prompt_content,\n",
    "        }\n",
    "      ],\n",
    "    )\n",
    "    return (response)"
   ]
  },
  {
   "cell_type": "code",
   "execution_count": 160,
   "metadata": {},
   "outputs": [
    {
     "name": "stdout",
     "output_type": "stream",
     "text": [
      "Here are 2 questions based on the poem \"Stopping by Woods On a Snowy Evening\" by Robert Frost, formatted as requested:\n",
      "\n",
      "{'questions': [\n",
      "  {\n",
      "    'question_id': '1',\n",
      "    'question_type': 'Main idea identification',\n",
      "    'question_text': 'What is the central theme of the poem?',\n",
      "    'options': {\n",
      "      'a': 'The beauty of nature',\n",
      "      'b': 'The conflict between duty and desire',\n",
      "      'c': 'The loneliness of winter',\n",
      "      'd': 'The relationship between humans and animals'\n",
      "    },\n",
      "    'correct_answer': 'b',\n",
      "    'hint': 'Consider the last stanza and the speaker\\'s internal conflict.',\n",
      "    'explanation': 'The correct answer is (b) The conflict between duty and desire. Throughout the poem, the speaker is drawn to the beauty of the snowy woods, wanting to stay and observe. However, the final stanza reveals that the speaker has \"promises to keep\" and \"miles to go,\" indicating responsibilities that pull them away from the allure of the woods. This tension between the desire to stay and appreciate nature and the need to fulfill obligations represents the central theme of the poem.'\n",
      "  },\n",
      "  {\n",
      "    'question_id': '2',\n",
      "    'question_type': 'Vocabulary understanding',\n",
      "    'question_text': 'What does the word \"queer\" mean in the context of the line \"My little horse must think it queer\"?',\n",
      "    'options': {\n",
      "      'a': 'Homosexual',\n",
      "      'b': 'Strange or odd',\n",
      "      'c': 'Exciting',\n",
      "      'd': 'Colorful'\n",
      "    },\n",
      "    'correct_answer': 'b',\n",
      "    'hint': 'Consider how the horse might perceive the unexpected stop.',\n",
      "    'explanation': 'The correct answer is (b) Strange or odd. In this context, \"queer\" is used in its older sense, meaning unusual or strange. The speaker suggests that the horse finds it odd to stop in an isolated place without any apparent reason, especially on such a dark evening. This usage of \"queer\" emphasizes the unconventional nature of the speaker\\'s actions from the horse\\'s perspective.'\n",
      "  }\n",
      "]}\n"
     ]
    }
   ],
   "source": [
    "response = generate_questions()\n",
    "print(response.content[0].text)"
   ]
  },
  {
   "cell_type": "markdown",
   "metadata": {},
   "source": [
    "Example 1 to text3:\n",
    "\n",
    "{\n",
    "  \"questions\": [\n",
    "    {\n",
    "      \"question_id\": \"1\",\n",
    "      \"question_type\": \"Basic comprehension\",\n",
    "      \"question_text\": \"How many spines does an average adult hedgehog have?\",\n",
    "      \"options\": {\n",
    "        \"a\": \"1,000-3,000\",\n",
    "        \"b\": \"3,000-5,000\",\n",
    "        \"c\": \"5,000-7,000\",\n",
    "        \"d\": \"7,000-9,000\"\n",
    "      },\n",
    "      \"correct_answer\": \"c\",\n",
    "      \"hint\": \"The number is between 5,000 and 7,000.\",\n",
    "      \"explanation\": \"The text clearly states that 'There are approximately 5,000-7,000 spines on an average adult hedgehog.' This information is directly provided in the passage, making option c the correct answer.\"\n",
    "    },\n",
    "    {\n",
    "      \"question_id\": \"2\",\n",
    "      \"question_type\": \"Vocabulary understanding\",\n",
    "      \"question_text\": \"In the context of the passage, what does the word 'modified' mean when referring to hedgehog spines?\",\n",
    "      \"options\": {\n",
    "        \"a\": \"Removed\",\n",
    "        \"b\": \"Altered\",\n",
    "        \"c\": \"Enlarged\",\n",
    "        \"d\": \"Colored\"\n",
    "      },\n",
    "      \"correct_answer\": \"b\",\n",
    "      \"hint\": \"Think about how the spines are described in relation to regular hairs.\",\n",
    "      \"explanation\": \"The passage states that the spines are 'really modified hairs.' In this context, 'modified' means that the hairs have been altered or changed from their original form to become spines. Therefore, option b, 'Altered,' is the correct answer as it best captures the meaning of 'modified' in this context.\"\n",
    "    }\n",
    "  ]\n",
    "}\n",
    "\n",
    "\n",
    "\n",
    "{\n",
    "  \"questions\": [\n",
    "    {\n",
    "      \"question_id\": \"1\",\n",
    "      \"question_type\": \"Basic comprehension\",\n",
    "      \"question_text\": \"What is the typical weight of a hedgehog?\",\n",
    "      \"options\": {\n",
    "        \"a\": \"Up to 0.8kg\",\n",
    "        \"b\": \"Up to 1.2kg\",\n",
    "        \"c\": \"Up to 1.5kg\",\n",
    "        \"d\": \"Up to 2kg\"\n",
    "      },\n",
    "      \"correct_answer\": \"b\",\n",
    "      \"hint\": \"The weight is mentioned in the first sentence of the text.\",\n",
    "      \"explanation\": \"The correct answer is up to 1.2kg. The text explicitly states that hedgehogs 'typically weigh up to 1.2kg', making this the accurate response based on the information provided.\"\n",
    "    },\n",
    "    {\n",
    "      \"question_id\": \"2\",\n",
    "      \"question_type\": \"Vocabulary understanding\",\n",
    "      \"question_text\": \"In the context of the passage, what does 'modified' mean when referring to the hedgehog's spines?\",\n",
    "      \"options\": {\n",
    "        \"a\": \"Enlarged\",\n",
    "        \"b\": \"Shortened\",\n",
    "        \"c\": \"Altered\",\n",
    "        \"d\": \"Removed\"\n",
    "      },\n",
    "      \"correct_answer\": \"c\",\n",
    "      \"hint\": \"Think about how the spines are described in relation to hairs.\",\n",
    "      \"explanation\": \"The correct answer is 'altered'. The text states that the spines are 'really modified hairs', suggesting that they are hairs that have been changed or adapted. 'Modified' in this context means altered or transformed from their original form.\"\n",
    "    }\n",
    "  ]\n",
    "}"
   ]
  },
  {
   "cell_type": "markdown",
   "metadata": {},
   "source": [
    "Some example of results to text4:\n",
    "\n",
    "{\n",
    "  \"questions\": [\n",
    "    {\n",
    "      \"question_id\": \"1\",\n",
    "      \"question_type\": \"Main idea identification\",\n",
    "      \"question_text\": \"What is the central theme of the poem?\",\n",
    "      \"options\": {\n",
    "        \"a\": \"The beauty of nature\",\n",
    "        \"b\": \"The conflict between duty and desire\",\n",
    "        \"c\": \"The loneliness of winter\",\n",
    "        \"d\": \"The relationship between humans and animals\"\n",
    "      },\n",
    "      \"correct_answer\": \"b\",\n",
    "      \"hint\": \"Consider the last stanza and the speaker's situation.\",\n",
    "      \"explanation\": \"The correct answer is b) The conflict between duty and desire. Throughout the poem, the speaker is drawn to the beauty of the snowy woods (desire) but is reminded of his responsibilities (duty) as expressed in the lines 'But I have promises to keep, And miles to go before I sleep.' This internal conflict between wanting to stay and enjoy the peaceful scene versus needing to continue on his journey forms the central theme of the poem.\"\n",
    "    },\n",
    "    {\n",
    "      \"question_id\": \"2\",\n",
    "      \"question_type\": \"Vocabulary understanding\",\n",
    "      \"question_text\": \"In the line 'Of easy wind and downy flake,' what does the word 'downy' most likely mean?\",\n",
    "      \"options\": {\n",
    "        \"a\": \"Heavy\",\n",
    "        \"b\": \"Wet\",\n",
    "        \"c\": \"Soft and light\",\n",
    "        \"d\": \"Frozen\"\n",
    "      },\n",
    "      \"correct_answer\": \"c\",\n",
    "      \"hint\": \"Think about the texture of down feathers.\",\n",
    "      \"explanation\": \"The correct answer is c) Soft and light. 'Downy' refers to the soft, fluffy undercoating of birds, particularly waterfowl. In the context of snowflakes, it suggests that the snow is falling gently and lightly, creating a peaceful and delicate scene. This word choice contributes to the overall tranquil atmosphere of the poem.\"\n",
    "    }\n",
    "  ]\n",
    "}\n",
    "\n",
    "\n",
    "\n",
    "{\n",
    "  \"questions\": [\n",
    "    {\n",
    "      \"question_id\": \"1\",\n",
    "      \"question_type\": \"Main idea identification\",\n",
    "      \"question_text\": \"What is the central theme of the poem?\",\n",
    "      \"options\": {\n",
    "        \"a\": \"The beauty of nature\",\n",
    "        \"b\": \"The conflict between duty and desire\",\n",
    "        \"c\": \"The loneliness of winter\",\n",
    "        \"d\": \"The relationship between humans and animals\"\n",
    "      },\n",
    "      \"correct_answer\": \"b\",\n",
    "      \"hint\": \"Consider the contrast between the speaker's desire to stay and watch the woods, and what they say they must do.\",\n",
    "      \"explanation\": \"The poem's central theme is the conflict between duty and desire. The speaker is drawn to the beauty of the snowy woods and wishes to stay, but acknowledges that they have 'promises to keep' and 'miles to go before I sleep.' This represents the tension between the desire to pause and appreciate beauty, and the responsibilities that pull one away from such moments.\"\n",
    "    },\n",
    "    {\n",
    "      \"question_id\": \"2\",\n",
    "      \"question_type\": \"Vocabulary understanding\",\n",
    "      \"question_text\": \"In the line 'Of easy wind and downy flake,' what does the word 'downy' most likely mean?\",\n",
    "      \"options\": {\n",
    "        \"a\": \"Heavy\",\n",
    "        \"b\": \"Wet\",\n",
    "        \"c\": \"Soft and light\",\n",
    "        \"d\": \"Frozen\"\n",
    "      },\n",
    "      \"correct_answer\": \"c\",\n",
    "      \"hint\": \"Think about the texture of down feathers.\",\n",
    "      \"explanation\": \"'Downy' refers to something that is soft and fluffy, like down feathers. In the context of snowflakes, it suggests that the snow is light, soft, and gently falling. This word choice contributes to the peaceful, quiet atmosphere of the scene the poem describes.\"\n",
    "    }\n",
    "  ]\n",
    "}"
   ]
  },
  {
   "cell_type": "markdown",
   "metadata": {},
   "source": [
    "[{option:\"a\",text:\"A bloody shoe\"},....]"
   ]
  },
  {
   "cell_type": "markdown",
   "metadata": {},
   "source": [
    "Check the answer\n",
    "\n",
    "Two attempts per question\n",
    "Hint button (after first attempt)\n",
    "Proper explanation display after exhausting attempts\n",
    "After answer - randomized encouraging messages for different scenarios\n",
    "\n",
    "Please give me advice on how to check the answers and write code for checking the answers.\n",
    "My idea it should be two tries to answer correctly and after that, the right answer appears with the explanation. Plus it should be an encouragement message to the student."
   ]
  }
 ],
 "metadata": {
  "kernelspec": {
   "display_name": "Python 3",
   "language": "python",
   "name": "python3"
  },
  "language_info": {
   "codemirror_mode": {
    "name": "ipython",
    "version": 3
   },
   "file_extension": ".py",
   "mimetype": "text/x-python",
   "name": "python",
   "nbconvert_exporter": "python",
   "pygments_lexer": "ipython3",
   "version": "3.12.7"
  }
 },
 "nbformat": 4,
 "nbformat_minor": 2
}
