{
 "cells": [
  {
   "cell_type": "markdown",
   "metadata": {},
   "source": [
    "**Gap Fill Game**\n",
    "\n",
    "A gap-fill game that focuses on different phonics patterns, sight words and reading skills"
   ]
  },
  {
   "cell_type": "markdown",
   "metadata": {},
   "source": [
    "**Step 1: Athropic import**"
   ]
  },
  {
   "cell_type": "code",
   "execution_count": 119,
   "metadata": {},
   "outputs": [],
   "source": [
    "from dotenv import load_dotenv\n",
    "import os\n",
    "from anthropic import Anthropic\n",
    "# import base64\n",
    "\n",
    "#load environment variable\n",
    "load_dotenv()\n",
    "my_api_key = os.getenv(\"ANTHROPIC_API_KEY\")\n",
    "client = Anthropic()"
   ]
  },
  {
   "cell_type": "code",
   "execution_count": 120,
   "metadata": {},
   "outputs": [],
   "source": [
    "# print(\"test python\")"
   ]
  },
  {
   "cell_type": "markdown",
   "metadata": {},
   "source": [
    "**Step 2: Biuld the prompt requirements**"
   ]
  },
  {
   "cell_type": "code",
   "execution_count": 121,
   "metadata": {},
   "outputs": [],
   "source": [
    "system_prompt = \"\"\"\n",
    "You are an educational expert specialising in UK phonics and reading instruction for adult learners.\"\"\""
   ]
  },
  {
   "cell_type": "code",
   "execution_count": 122,
   "metadata": {},
   "outputs": [],
   "source": [
    "MODEL = \"claude-3-5-sonnet-20240620\""
   ]
  },
  {
   "cell_type": "code",
   "execution_count": 123,
   "metadata": {},
   "outputs": [],
   "source": [
    "pnonics_level_3 = f\"\"\"\n",
    "Focus on these phonics patterns:\n",
    "Split Digraphs:\n",
    "\n",
    "Long 'ā' sound using 'a_e' pattern (e.g., made, tape, gate)\n",
    "Long 'ē' sound using 'e_e' pattern (e.g., these, theme, complete)\n",
    "Long 'ō' sound using 'o_e' pattern (e.g., hope, smoke, note)\n",
    "Long 'ī' sound using 'i_e' pattern (e.g., ride, wine, like)\n",
    "Long 'ū' sound using 'u_e' pattern (e.g., cube, tune, use)\n",
    "\n",
    "\n",
    "Vowel Digraphs:\n",
    "\n",
    "'oo' pattern (e.g., shoot, book)\n",
    "'ue' pattern (e.g., cue)\n",
    "'ew' pattern (e.g., few)\n",
    "\n",
    "\n",
    "R-controlled Vowels:\n",
    "\n",
    "'er' pattern (e.g., her, term, better)\n",
    "'ur' pattern (e.g., burn, hurt, church)\n",
    "'ir' pattern (e.g., first, dirt, bird)\n",
    "\n",
    "\n",
    "Other Vowel Patterns:\n",
    "\n",
    "'ou' pattern for 'ow' sound (e.g., house)\n",
    "'ow' pattern for 'ow' sound (e.g., cow)\n",
    "'oi' pattern (e.g., soil)\n",
    "'oy' pattern (e.g., boy)\n",
    "\n",
    "Words used should follow only these patterns but aren't limited to the examples.\n",
    "\"\"\""
   ]
  },
  {
   "cell_type": "code",
   "execution_count": 124,
   "metadata": {},
   "outputs": [],
   "source": [
    "phonics_1 = \"\"\"Focus on these phonics patterns:\n",
    "Split Digraphs:\n",
    "\n",
    "Long 'ā' sound using 'a_e' pattern (e.g., made, tape, gate)\n",
    "Long 'ē' sound using 'e_e' pattern (e.g., these, theme, complete)\n",
    "Long 'ō' sound using 'o_e' pattern (e.g., hope, smoke, note)\n",
    "Long 'ī' sound using 'i_e' pattern (e.g., ride, wine, like)\n",
    "Long 'ū' sound using 'u_e' pattern (e.g., cube, tune, use)\"\"\""
   ]
  },
  {
   "cell_type": "code",
   "execution_count": 125,
   "metadata": {},
   "outputs": [],
   "source": [
    "phonics_2 = \"\"\"Focus on these phonics patterns:\n",
    "\n",
    "Long 'er' sound using:\n",
    "1. 'er' pattern (e.g., her, term, better)\n",
    "2. 'ur' pattern (e.g., burn, hurt, church)\n",
    "3. 'ir' pattern (e.g., first, dirt, bird)\n",
    "\"\"\""
   ]
  },
  {
   "cell_type": "code",
   "execution_count": 126,
   "metadata": {},
   "outputs": [],
   "source": [
    "phonics_3 = \"\"\"Focus on these phonics patterns:\n",
    "\n",
    "'ou' pattern for 'ow' sound \n",
    "'ow' pattern for 'ow' sound \n",
    "\n",
    "\"\"\""
   ]
  },
  {
   "cell_type": "code",
   "execution_count": 151,
   "metadata": {},
   "outputs": [],
   "source": [
    "phonics_4 = \"\"\"\n",
    "Focus on these phonics patterns:  \n",
    "\"sound\": \"er\",\n",
    "    \"patterns\": [\n",
    "    {\n",
    "        \"pattern\": \"er\",\n",
    "        \"level\": 3,\n",
    "        \"description\": \"r-controlled vowel\",\n",
    "        \"examples\": [\"her\", \"term\", \"bitter\", \"herb\", \"infer\", \"better\", \"chatter\", \"verb\", \"sister\", \"faster\", \"transfer\", \"stern\"]\n",
    "        },\n",
    "        {\n",
    "        \"pattern\": \"ur\",\n",
    "        \"level\": 3,\n",
    "        \"description\": \"r-controlled vowel\",\n",
    "        \"examples\": [\"burn\", \"hurt\", \"church\", \"blur\", \"curl\", \"fur\", \"furnish\", \"Thursday\", \"turn\", \"slur\", \"surf\", \"burst\"]\n",
    "        },\n",
    "        {\n",
    "        \"pattern\": \"ir\",\n",
    "        \"level\": 3,\n",
    "        \"description\": \"r-controlled vowel\",\n",
    "        \"examples\": [\"first\", \"dirt\", \"skirt\", \"sir\", \"bird\", \"girl\", \"birthday\", \"thirty\", \"stir\", \"third\", \"firm\", \"birth\"]\n",
    "        },\n",
    "        \"\"\""
   ]
  },
  {
   "cell_type": "code",
   "execution_count": 127,
   "metadata": {},
   "outputs": [],
   "source": [
    "target_group = \"adults (20-50 years) struggling with reading and having basic vocabulary and comprehension abilities.\""
   ]
  },
  {
   "cell_type": "code",
   "execution_count": 128,
   "metadata": {},
   "outputs": [],
   "source": [
    "focus_sight_words = \"\"\"Focus on these  on these sight words:\n",
    "            \"so\",\n",
    "            \"work\",\n",
    "            \"love\",\n",
    "            \"their\",\n",
    "            \"one\",\n",
    "            \"over\",\n",
    "            \"sure\",\n",
    "            \"two\",\n",
    "            \"knew\",\n",
    "            \"because\",\n",
    "            \"only\",\n",
    "            \"woman\",\n",
    "            \"done\",\n",
    "            \"does\",\n",
    "            \"other\"\n",
    "\"\"\""
   ]
  },
  {
   "cell_type": "markdown",
   "metadata": {},
   "source": [
    "**Choose focus_topic**"
   ]
  },
  {
   "cell_type": "code",
   "execution_count": 152,
   "metadata": {},
   "outputs": [
    {
     "name": "stdout",
     "output_type": "stream",
     "text": [
      "\n",
      "Focus on these phonics patterns:  \n",
      "\"sound\": \"er\",\n",
      "    \"patterns\": [\n",
      "    {\n",
      "        \"pattern\": \"er\",\n",
      "        \"level\": 3,\n",
      "        \"description\": \"r-controlled vowel\",\n",
      "        \"examples\": [\"her\", \"term\", \"bitter\", \"herb\", \"infer\", \"better\", \"chatter\", \"verb\", \"sister\", \"faster\", \"transfer\", \"stern\"]\n",
      "        },\n",
      "        {\n",
      "        \"pattern\": \"ur\",\n",
      "        \"level\": 3,\n",
      "        \"description\": \"r-controlled vowel\",\n",
      "        \"examples\": [\"burn\", \"hurt\", \"church\", \"blur\", \"curl\", \"fur\", \"furnish\", \"Thursday\", \"turn\", \"slur\", \"surf\", \"burst\"]\n",
      "        },\n",
      "        {\n",
      "        \"pattern\": \"ir\",\n",
      "        \"level\": 3,\n",
      "        \"description\": \"r-controlled vowel\",\n",
      "        \"examples\": [\"first\", \"dirt\", \"skirt\", \"sir\", \"bird\", \"girl\", \"birthday\", \"thirty\", \"stir\", \"third\", \"firm\", \"birth\"]\n",
      "        },\n",
      "        \n"
     ]
    }
   ],
   "source": [
    "focus_topic = phonics_4\n",
    "print(focus_topic)"
   ]
  },
  {
   "cell_type": "code",
   "execution_count": 130,
   "metadata": {},
   "outputs": [],
   "source": [
    "pargth_nbr = 3"
   ]
  },
  {
   "cell_type": "code",
   "execution_count": 131,
   "metadata": {},
   "outputs": [],
   "source": [
    "target_group = \"adults (20-50 years) struggling with reading and having basic vocabulary and comprehension abilities\""
   ]
  },
  {
   "cell_type": "code",
   "execution_count": null,
   "metadata": {},
   "outputs": [],
   "source": [
    "response_format = \"\"\"\n",
    "{\n",
    "  \"questions\": [\n",
    "    {\n",
    "      \"question_id\": \"1\",\n",
    "      \"question_type\": \"gap-fill\",\n",
    "      \"context\": \"[context category]\",\n",
    "      \"phonics/sight words\": \"[sound pattern]\",\n",
    "      \"pattern\": \"[spelling pattern]\",\n",
    "      \"question_text\": \"[paragraph with ______ gaps]\",\n",
    "      \"gaps\": 2,\n",
    "      \"options\": [\"word\", \"word\"],\n",
    "      \"correct_order\": [\"word\", \"word\"]\n",
    "    }\n",
    "  ]\n",
    "}\"\"\""
   ]
  },
  {
   "cell_type": "code",
   "execution_count": 154,
   "metadata": {},
   "outputs": [],
   "source": [
    "example_phonics = \"\"\"\n",
    "{\n",
    "\"question_id\": \"2\",\n",
    "\"question_type\": \"gap-fill\",\n",
    "\"context\": \"Weather\",\n",
    "\"phonics\": \"'ow' sound and 'er' sound\",\n",
    "\"pattern\": \"ow, er\",\n",
    "\"question_text\": \"Dark clouds brought a heavy _____. The _____ report says it will clear up soon.\",\n",
    "\"gaps\": 2,\n",
    "\"options\": [\"shower\", \"weather\"],\n",
    "\"correct_order\": [\"shower\", \"weather\"]\n",
    "},\"\"\""
   ]
  },
  {
   "cell_type": "code",
   "execution_count": 155,
   "metadata": {},
   "outputs": [],
   "source": [
    "prompt_content = f\"\"\"\n",
    "Create a set of engaging gap-fill paragraphs following these instructions:\n",
    "{focus_topic}\n",
    "\n",
    "LEARNING GOALS:\n",
    "- Reinforce phonics patterns\n",
    "- Improve word recognition\n",
    "- Develop contextual understanding\n",
    "- Target audience: {target_group}\n",
    "\n",
    "GUIDELINES:\n",
    "- Generate {pargth_nbr} paragraphs, each containing 2 gaps\n",
    "- Paragraph must be clear and practical\n",
    "- Include sufficient context clues for comprehension\n",
    "- Maximum word count per paragraph: 25-40 words\n",
    "\n",
    "OUTPUT FORMAT:\n",
    "- Use complete word gaps (indicated by a full underscore line: _____)\n",
    "- Return response in this exact JSON structure:\n",
    "{response_format}\n",
    "\n",
    "EXAMPLE OF GOOD RESPONSE:\n",
    "{example_phonics}\n",
    "\n",
    "ADDITIONAL REQUIREMENTS:\n",
    "- Present options in random order\n",
    "- If using multiple phonics patterns, list all patterns used\n",
    "- Ensure all  sentences are grammatically correct and natural-sounding\n",
    "\n",
    "QUALITY CHECKS:\n",
    "- Ensure readability at basic level\n",
    "- Verify natural flow of text\n",
    "- Confirm appropriate context clues\n",
    "\"\"\""
   ]
  },
  {
   "cell_type": "code",
   "execution_count": 156,
   "metadata": {},
   "outputs": [
    {
     "name": "stdout",
     "output_type": "stream",
     "text": [
      "\n",
      "Create a set of engaging gap-fill paragraphs following these instructions:\n",
      "\n",
      "Focus on these phonics patterns:  \n",
      "\"sound\": \"er\",\n",
      "    \"patterns\": [\n",
      "    {\n",
      "        \"pattern\": \"er\",\n",
      "        \"level\": 3,\n",
      "        \"description\": \"r-controlled vowel\",\n",
      "        \"examples\": [\"her\", \"term\", \"bitter\", \"herb\", \"infer\", \"better\", \"chatter\", \"verb\", \"sister\", \"faster\", \"transfer\", \"stern\"]\n",
      "        },\n",
      "        {\n",
      "        \"pattern\": \"ur\",\n",
      "        \"level\": 3,\n",
      "        \"description\": \"r-controlled vowel\",\n",
      "        \"examples\": [\"burn\", \"hurt\", \"church\", \"blur\", \"curl\", \"fur\", \"furnish\", \"Thursday\", \"turn\", \"slur\", \"surf\", \"burst\"]\n",
      "        },\n",
      "        {\n",
      "        \"pattern\": \"ir\",\n",
      "        \"level\": 3,\n",
      "        \"description\": \"r-controlled vowel\",\n",
      "        \"examples\": [\"first\", \"dirt\", \"skirt\", \"sir\", \"bird\", \"girl\", \"birthday\", \"thirty\", \"stir\", \"third\", \"firm\", \"birth\"]\n",
      "        },\n",
      "        \n",
      "\n",
      "LEARNING GOALS:\n",
      "- Reinforce phonics patterns\n",
      "- Improve word recognition\n",
      "- Develop contextual understanding\n",
      "- Target audience: adults (20-50 years) struggling with reading and having basic vocabulary and comprehension abilities\n",
      "\n",
      "GUIDELINES:\n",
      "- Generate 3 paragraphs, each containing 2 gaps\n",
      "- Paragraph must be clear and practical\n",
      "- Include sufficient context clues for comprehension\n",
      "- Maximum word count per paragraph: 25-40 words\n",
      "\n",
      "OUTPUT FORMAT:\n",
      "- Use complete word gaps (indicated by a full underscore line: _____)\n",
      "- Return response in this exact JSON structure:\n",
      "\n",
      "{\n",
      "  \"questions\": [\n",
      "    {\n",
      "      \"question_id\": \"1\",\n",
      "      \"question_type\": \"gap-fill\",\n",
      "      \"context\": \"[context category]\",\n",
      "      \"phonics/sight words\": \"[sound pattern/sight word]\",\n",
      "      \"pattern\": \"[spelling pattern]\",\n",
      "      \"question_text\": \"[paragraph with ______ gaps]\",\n",
      "      \"gaps\": 2,\n",
      "      \"options\": [\"word\", \"word\"],\n",
      "      \"correct_order\": [\"word\", \"word\"]\n",
      "    }\n",
      "  ]\n",
      "}\n",
      "\n",
      "EXAMPLE OF GOOD RESPONSE:\n",
      "\n",
      "{\n",
      "\"question_id\": \"2\",\n",
      "\"question_type\": \"gap-fill\",\n",
      "\"context\": \"Weather\",\n",
      "\"phonics\": \"'ow' sound and 'er' sound\",\n",
      "\"pattern\": \"ow, er\",\n",
      "\"question_text\": \"Dark clouds brought a heavy _____. The _____ report says it will clear up soon.\",\n",
      "\"gaps\": 2,\n",
      "\"options\": [\"shower\", \"weather\"],\n",
      "\"correct_order\": [\"shower\", \"weather\"]\n",
      "},\n",
      "\n",
      "ADDITIONAL REQUIREMENTS:\n",
      "- Present options in random order\n",
      "- If using multiple phonics patterns, list all patterns used\n",
      "- Ensure all  sentences are grammatically correct and natural-sounding\n",
      "\n",
      "QUALITY CHECKS:\n",
      "- Ensure readability at basic level\n",
      "- Verify natural flow of text\n",
      "- Confirm appropriate context clues\n",
      "\n"
     ]
    }
   ],
   "source": [
    "print (prompt_content)"
   ]
  },
  {
   "cell_type": "markdown",
   "metadata": {},
   "source": [
    "**Step 3: generate prompt**"
   ]
  },
  {
   "cell_type": "code",
   "execution_count": 157,
   "metadata": {},
   "outputs": [],
   "source": [
    "def generate_fill_gap_paragraph(prompt_content):\n",
    "    response = client.messages.create(\n",
    "      model=MODEL,\n",
    "      max_tokens=2000,\n",
    "      system = system_prompt,\n",
    "      messages=[\n",
    "        {\"role\": \"user\",\n",
    "        \"content\": prompt_content\n",
    "        }\n",
    "      ],\n",
    "    )\n",
    "    return (response)"
   ]
  },
  {
   "cell_type": "code",
   "execution_count": 158,
   "metadata": {},
   "outputs": [],
   "source": [
    "fill_gap_paragraphs = generate_fill_gap_paragraph(prompt_content)\n",
    "fill_gap_paragraphs_json = fill_gap_paragraphs.content[0].text"
   ]
  },
  {
   "cell_type": "code",
   "execution_count": 159,
   "metadata": {},
   "outputs": [
    {
     "name": "stdout",
     "output_type": "stream",
     "text": [
      "Message(id='msg_01LvZeaK4kApg6QX2LzFSDCm', content=[TextBlock(text='{\\n  \"questions\": [\\n    {\\n      \"question_id\": \"1\",\\n      \"question_type\": \"gap-fill\",\\n      \"context\": \"Family\",\\n      \"phonics/sight words\": \"er sound\",\\n      \"pattern\": \"er, ir\",\\n      \"question_text\": \"My _____ and I are planning a surprise birthday party for our mother. We hope to make it extra special for _____ this year.\",\\n      \"gaps\": 2,\\n      \"options\": [\"sister\", \"her\"],\\n      \"correct_order\": [\"sister\", \"her\"]\\n    },\\n    {\\n      \"question_id\": \"2\",\\n      \"question_type\": \"gap-fill\",\\n      \"context\": \"Workplace\",\\n      \"phonics/sight words\": \"er, ur sound\",\\n      \"pattern\": \"er, ur\",\\n      \"question_text\": \"The new office _____ arrived on Thursday. It will help us work _____ and be more productive.\",\\n      \"gaps\": 2,\\n      \"options\": [\"furniture\", \"faster\"],\\n      \"correct_order\": [\"furniture\", \"faster\"]\\n    },\\n    {\\n      \"question_id\": \"3\",\\n      \"question_type\": \"gap-fill\",\\n      \"context\": \"Nature\",\\n      \"phonics/sight words\": \"ir sound\",\\n      \"pattern\": \"ir\",\\n      \"question_text\": \"We saw a beautiful _____ building its nest in the tree. It was the _____ day of spring, and nature was coming alive.\",\\n      \"gaps\": 2,\\n      \"options\": [\"bird\", \"first\"],\\n      \"correct_order\": [\"bird\", \"first\"]\\n    }\\n  ]\\n}', type='text')], model='claude-3-5-sonnet-20240620', role='assistant', stop_reason='end_turn', stop_sequence=None, type='message', usage=Usage(input_tokens=756, output_tokens=396))\n",
      "{\n",
      "  \"questions\": [\n",
      "    {\n",
      "      \"question_id\": \"1\",\n",
      "      \"question_type\": \"gap-fill\",\n",
      "      \"context\": \"Family\",\n",
      "      \"phonics/sight words\": \"er sound\",\n",
      "      \"pattern\": \"er, ir\",\n",
      "      \"question_text\": \"My _____ and I are planning a surprise birthday party for our mother. We hope to make it extra special for _____ this year.\",\n",
      "      \"gaps\": 2,\n",
      "      \"options\": [\"sister\", \"her\"],\n",
      "      \"correct_order\": [\"sister\", \"her\"]\n",
      "    },\n",
      "    {\n",
      "      \"question_id\": \"2\",\n",
      "      \"question_type\": \"gap-fill\",\n",
      "      \"context\": \"Workplace\",\n",
      "      \"phonics/sight words\": \"er, ur sound\",\n",
      "      \"pattern\": \"er, ur\",\n",
      "      \"question_text\": \"The new office _____ arrived on Thursday. It will help us work _____ and be more productive.\",\n",
      "      \"gaps\": 2,\n",
      "      \"options\": [\"furniture\", \"faster\"],\n",
      "      \"correct_order\": [\"furniture\", \"faster\"]\n",
      "    },\n",
      "    {\n",
      "      \"question_id\": \"3\",\n",
      "      \"question_type\": \"gap-fill\",\n",
      "      \"context\": \"Nature\",\n",
      "      \"phonics/sight words\": \"ir sound\",\n",
      "      \"pattern\": \"ir\",\n",
      "      \"question_text\": \"We saw a beautiful _____ building its nest in the tree. It was the _____ day of spring, and nature was coming alive.\",\n",
      "      \"gaps\": 2,\n",
      "      \"options\": [\"bird\", \"first\"],\n",
      "      \"correct_order\": [\"bird\", \"first\"]\n",
      "    }\n",
      "  ]\n",
      "}\n",
      "Usage(input_tokens=756, output_tokens=396)\n"
     ]
    }
   ],
   "source": [
    "print(fill_gap_paragraphs)\n",
    "print(fill_gap_paragraphs_json)\n",
    "print(fill_gap_paragraphs.usage)"
   ]
  },
  {
   "cell_type": "markdown",
   "metadata": {},
   "source": [
    "Message(id='msg_01VMWEzJhM3rMGgvowtNu5kb', content=[TextBlock(text='{\\n  \"questions\": [\\n    {\\n      \"question_id\": \"1\",\\n      \"question_type\": \"gap-fill\",\\n      \"context\": \"Home Improvement\",\\n      \"phonics\": \"Long \\'ā\\' sound and long \\'ō\\' sound\",\\n      \"pattern\": \"a_e, o_e\",\\n      \"question_text\": \"We decided to _____ our kitchen last month. The new stove makes it easier to _____ delicious meals.\",\\n      \"gaps\": 2,\\n      \"options\": [\"make\", \"renovate\"],\\n      \"correct_order\": [\"renovate\", \"make\"]\\n    },\\n    {\\n      \"question_id\": \"2\",\\n      \"question_type\": \"gap-fill\",\\n      \"context\": \"Entertainment\",\\n      \"phonics\": \"Long \\'ē\\' sound and long \\'ī\\' sound\",\\n      \"pattern\": \"e_e, i_e\",\\n      \"question_text\": \"The new movie _____ was exciting from start to finish. We liked it so much, we decided to _____ it again next week.\",\\n      \"gaps\": 2,\\n      \"options\": [\"theme\", \"ride\"],\\n      \"correct_order\": [\"theme\", \"ride\"]\\n    },\\n    {\\n      \"question_id\": \"3\",\\n      \"question_type\": \"gap-fill\",\\n      \"context\": \"Technology\",\\n      \"phonics\": \"Long \\'ū\\' sound and long \\'ō\\' sound\",\\n      \"pattern\": \"u_e, o_e\",\\n      \"question_text\": \"The latest smartphone comes with a useful new _____. It can even remind you to _____ down your daily tasks.\",\\n      \"gaps\": 2,\\n      \"options\": [\"feature\", \"note\"],\\n      \"correct_order\": [\"feature\", \"note\"]\\n    }\\n  ]\\n}', type='text')], model='claude-3-5-sonnet-20240620', role='assistant', stop_reason='end_turn', stop_sequence=None, type='message', usage=Usage(input_tokens=581, output_tokens=439))\n"
   ]
  },
  {
   "cell_type": "markdown",
   "metadata": {},
   "source": [
    "**Step 4: Check the answers\n",
    "**Complete these sentences by choosing the correct word from the brackets:\n"
   ]
  }
 ],
 "metadata": {
  "kernelspec": {
   "display_name": "Python 3",
   "language": "python",
   "name": "python3"
  },
  "language_info": {
   "codemirror_mode": {
    "name": "ipython",
    "version": 3
   },
   "file_extension": ".py",
   "mimetype": "text/x-python",
   "name": "python",
   "nbconvert_exporter": "python",
   "pygments_lexer": "ipython3",
   "version": "3.12.7"
  }
 },
 "nbformat": 4,
 "nbformat_minor": 2
}
