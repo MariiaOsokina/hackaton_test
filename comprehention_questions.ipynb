{
 "cells": [
  {
   "cell_type": "markdown",
   "metadata": {},
   "source": [
    "# The Game Description: Text comprehension  \n",
    "Answer to the questions to the text"
   ]
  },
  {
   "cell_type": "markdown",
   "metadata": {},
   "source": [
    "# Step 1: Athropic import\n",
    "import our api_key to project"
   ]
  },
  {
   "cell_type": "code",
   "execution_count": 1,
   "metadata": {},
   "outputs": [],
   "source": [
    "from dotenv import load_dotenv\n",
    "import os\n",
    "from anthropic import Anthropic\n",
    "# import base64\n",
    "\n",
    "#load environment variable\n",
    "load_dotenv()\n",
    "my_api_key = os.getenv(\"ANTHROPIC_API_KEY\")\n",
    "client = Anthropic()"
   ]
  },
  {
   "cell_type": "code",
   "execution_count": 3,
   "metadata": {},
   "outputs": [
    {
     "name": "stdout",
     "output_type": "stream",
     "text": [
      "test\n"
     ]
    }
   ],
   "source": [
    "print(\"test\")"
   ]
  },
  {
   "cell_type": "markdown",
   "metadata": {},
   "source": [
    "# Step 2: Write requirements for the prompt"
   ]
  },
  {
   "cell_type": "markdown",
   "metadata": {},
   "source": [
    "## Write System prompt\n",
    "// add short description, why we need it."
   ]
  },
  {
   "cell_type": "code",
   "execution_count": 4,
   "metadata": {},
   "outputs": [],
   "source": [
    "system_prompt = \"\"\"\n",
    "You are an educational expert specialising in reading comprehension. \n",
    "The questions should help assess and improve their understanding of the text.\n",
    "\"\"\""
   ]
  },
  {
   "cell_type": "markdown",
   "metadata": {},
   "source": [
    "## Choose Anthropic Model\n",
    "\n",
    "claude-3-5-sonnet-20240620 is better because [add explaination]...."
   ]
  },
  {
   "cell_type": "code",
   "execution_count": 5,
   "metadata": {},
   "outputs": [],
   "source": [
    "MODEL = \"claude-3-5-sonnet-20240620\""
   ]
  },
  {
   "cell_type": "markdown",
   "metadata": {},
   "source": [
    "## Target group\n",
    "// get this info from SH TR Dataset\n",
    "// questions should not be difficult"
   ]
  },
  {
   "cell_type": "code",
   "execution_count": 6,
   "metadata": {},
   "outputs": [],
   "source": [
    "target_group = \"adults (20-30 years old) who have a struggle with reading\""
   ]
  },
  {
   "cell_type": "markdown",
   "metadata": {},
   "source": [
    "### Text\n",
    "\n",
    "choose the text\n",
    "// to think how to retrive the text"
   ]
  },
  {
   "cell_type": "code",
   "execution_count": 7,
   "metadata": {},
   "outputs": [],
   "source": [
    "text = \"\"\"\n",
    "\"Title: \"The World We See\",\n",
    "  \"Text\": \"People looked at maps,\n",
    "Mrs. Brown called her class.\n",
    "'The world is big,' she said,\n",
    "'From land to sea, it's vast.'\n",
    "\n",
    "Mr. Smith showed them hills,\n",
    "And rivers that run deep.\n",
    "They saw lakes and forests,\n",
    "And mountains oh so steep.\n",
    "\n",
    "The class looked at cities,\n",
    "Where people rush and go.\n",
    "They called out the names,\n",
    "Of places they now know.\n",
    "\n",
    "From hot to cold, they learned,\n",
    "About the Earth we share.\n",
    "A world of wonder waits,\n",
    "For those who look with care.\",\n",
    "\"\"\""
   ]
  },
  {
   "cell_type": "code",
   "execution_count": 8,
   "metadata": {},
   "outputs": [],
   "source": [
    "q_number = 2\n"
   ]
  },
  {
   "cell_type": "markdown",
   "metadata": {},
   "source": [
    "## questions_requirements \n",
    "\n",
    "Include a mix of question types:\n",
    "   - Basic comprehension\n",
    "   - Vocabulary understanding\n",
    "   - Main idea identification\n",
    "   - Critical thinking\n"
   ]
  },
  {
   "cell_type": "code",
   "execution_count": 9,
   "metadata": {},
   "outputs": [],
   "source": [
    "q_types =\"\"\"\n",
    "- Basic comprehension\n",
    "- Vocabulary understanding\n",
    "- Main idea identification\n",
    "- Critical thinking\n",
    "\"\"\""
   ]
  },
  {
   "cell_type": "code",
   "execution_count": 10,
   "metadata": {},
   "outputs": [],
   "source": [
    "q_format = \"Multiple choice options (4 choices)\""
   ]
  },
  {
   "cell_type": "markdown",
   "metadata": {},
   "source": [
    "Provide:\n",
    "   - The question\n",
    "   - Multiple choice options (4 choices)\n",
    "   - The correct answer\n",
    "   - Explanation why this answer is correct\n",
    "Format each question in JSON structure\n"
   ]
  },
  {
   "cell_type": "code",
   "execution_count": 11,
   "metadata": {},
   "outputs": [],
   "source": [
    "response_format = {\n",
    "    \"questions\": [\n",
    "        {\n",
    "            \"question_id\": \"1\",\n",
    "            \"question_type\": \"literal\",\n",
    "            \"question_text\": \"\",\n",
    "            \"options\": {\n",
    "                \"a\": \"\",\n",
    "                \"b\": \"\",\n",
    "                \"c\": \"\",\n",
    "                \"d\": \"\"\n",
    "            },\n",
    "            \"correct_answer\": \"\",\n",
    "            \"explanation\": \"\",\n",
    "        }\n",
    "    ]\n",
    "}"
   ]
  },
  {
   "cell_type": "code",
   "execution_count": 12,
   "metadata": {},
   "outputs": [],
   "source": [
    "prompt = f\"Review this text {text} and generate questions to it based on the following these guidelines:\\\n",
    "Randomly choose the type of questions from this list {q_types}\\\n",
    "Provide:\\\n",
    "   - The question\\\n",
    "   - Type\\\n",
    "   - Multiple choice options (4 choices)\\\n",
    "   - The correct answer\\\n",
    "   - Explanation why this answer is correct\\\n",
    "Format each question in JSON structure like this {response_format}.\"\n"
   ]
  },
  {
   "cell_type": "code",
   "execution_count": 13,
   "metadata": {},
   "outputs": [],
   "source": [
    "def generate_questions():\n",
    "    response = client.messages.create(\n",
    "      model=MODEL,\n",
    "      max_tokens=500,\n",
    "      system = system_prompt,\n",
    "      messages=[\n",
    "        {\"role\": \"user\",\n",
    "        \"content\": f\"Please generate this number of questions: {q_number}. Requirements: {prompt}\",\n",
    "        }\n",
    "      ],\n",
    "    )\n",
    "    return (response)"
   ]
  },
  {
   "cell_type": "code",
   "execution_count": 14,
   "metadata": {},
   "outputs": [
    {
     "name": "stdout",
     "output_type": "stream",
     "text": [
      "{\n",
      "  'questions': [\n",
      "    {\n",
      "      'question_id': '1',\n",
      "      'question_type': 'Main idea identification',\n",
      "      'question_text': 'What is the main theme of the poem \"The World We See\"?',\n",
      "      'options': {\n",
      "        'a': 'The importance of traveling',\n",
      "        'b': 'The diversity of Earth's geography',\n",
      "        'c': 'The history of mapmaking',\n",
      "        'd': 'The challenges of teaching geography'\n",
      "      },\n",
      "      'correct_answer': 'b',\n",
      "      'explanation': 'The poem primarily focuses on introducing various geographical features of the Earth, from land to sea, hills, rivers, lakes, forests, mountains, and cities. It emphasizes the vastness and diversity of the world, encouraging students to explore and appreciate the Earth's geography.'\n",
      "    },\n",
      "    {\n",
      "      'question_id': '2',\n",
      "      'question_type': 'Vocabulary understanding',\n",
      "      'question_text': 'In the line \"From land to sea, it's vast,\" what does the word \"vast\" mean?',\n",
      "      'options': {\n",
      "        'a': 'Beautiful',\n",
      "        'b': 'Dangerous',\n",
      "        'c': 'Enormous',\n",
      "        'd': 'Mysterious'\n",
      "      },\n",
      "      'correct_answer': 'c',\n",
      "      'explanation': 'The word \"vast\" in this context means \"enormous\" or \"of very great extent or size.\" It is used to describe the immense size of the world, emphasizing how big the Earth is from land to sea.'\n",
      "    }\n",
      "  ]\n",
      "}\n"
     ]
    }
   ],
   "source": [
    "response = generate_questions()\n",
    "print(response.content[0].text)"
   ]
  },
  {
   "cell_type": "markdown",
   "metadata": {},
   "source": [
    "Check the answer\n"
   ]
  },
  {
   "cell_type": "code",
   "execution_count": null,
   "metadata": {},
   "outputs": [],
   "source": []
  }
 ],
 "metadata": {
  "kernelspec": {
   "display_name": "Python 3",
   "language": "python",
   "name": "python3"
  },
  "language_info": {
   "codemirror_mode": {
    "name": "ipython",
    "version": 3
   },
   "file_extension": ".py",
   "mimetype": "text/x-python",
   "name": "python",
   "nbconvert_exporter": "python",
   "pygments_lexer": "ipython3",
   "version": "3.12.undefined"
  }
 },
 "nbformat": 4,
 "nbformat_minor": 2
}
