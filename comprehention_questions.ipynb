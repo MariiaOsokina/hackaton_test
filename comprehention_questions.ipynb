{
 "cells": [
  {
   "cell_type": "markdown",
   "metadata": {},
   "source": [
    "# The Game Description: \n",
    "create a comprehentiion questions to the text."
   ]
  },
  {
   "cell_type": "markdown",
   "metadata": {},
   "source": [
    "# Step 1 \n",
    "import our api_key to project"
   ]
  },
  {
   "cell_type": "code",
   "execution_count": 1,
   "metadata": {},
   "outputs": [
    {
     "ename": "NameError",
     "evalue": "name 'client' is not defined",
     "output_type": "error",
     "traceback": [
      "\u001b[1;31m---------------------------------------------------------------------------\u001b[0m",
      "\u001b[1;31mNameError\u001b[0m                                 Traceback (most recent call last)",
      "Cell \u001b[1;32mIn[1], line 19\u001b[0m\n\u001b[0;32m      2\u001b[0m     response \u001b[38;5;241m=\u001b[39m client\u001b[38;5;241m.\u001b[39mmessages\u001b[38;5;241m.\u001b[39mcreate(\n\u001b[0;32m      3\u001b[0m       model\u001b[38;5;241m=\u001b[39manthr_model,\n\u001b[0;32m      4\u001b[0m       max_tokens\u001b[38;5;241m=\u001b[39m\u001b[38;5;241m100\u001b[39m,\n\u001b[1;32m   (...)\u001b[0m\n\u001b[0;32m     15\u001b[0m       ],\n\u001b[0;32m     16\u001b[0m     )\n\u001b[0;32m     17\u001b[0m     \u001b[38;5;28mprint\u001b[39m (response\u001b[38;5;241m.\u001b[39mcontent[\u001b[38;5;241m0\u001b[39m]\u001b[38;5;241m.\u001b[39mtext)\n\u001b[1;32m---> 19\u001b[0m \u001b[43mgenerate_questions\u001b[49m\u001b[43m(\u001b[49m\u001b[43m)\u001b[49m\n",
      "Cell \u001b[1;32mIn[1], line 2\u001b[0m, in \u001b[0;36mgenerate_questions\u001b[1;34m()\u001b[0m\n\u001b[0;32m      1\u001b[0m \u001b[38;5;28;01mdef\u001b[39;00m \u001b[38;5;21mgenerate_questions\u001b[39m():\n\u001b[1;32m----> 2\u001b[0m     response \u001b[38;5;241m=\u001b[39m \u001b[43mclient\u001b[49m\u001b[38;5;241m.\u001b[39mmessages\u001b[38;5;241m.\u001b[39mcreate(\n\u001b[0;32m      3\u001b[0m       model\u001b[38;5;241m=\u001b[39manthr_model,\n\u001b[0;32m      4\u001b[0m       max_tokens\u001b[38;5;241m=\u001b[39m\u001b[38;5;241m100\u001b[39m,\n\u001b[0;32m      5\u001b[0m       system \u001b[38;5;241m=\u001b[39m system_prompt,\n\u001b[0;32m      6\u001b[0m       messages\u001b[38;5;241m=\u001b[39m[\n\u001b[0;32m      7\u001b[0m         {\u001b[38;5;124m\"\u001b[39m\u001b[38;5;124mrole\u001b[39m\u001b[38;5;124m\"\u001b[39m: \u001b[38;5;124m\"\u001b[39m\u001b[38;5;124muser\u001b[39m\u001b[38;5;124m\"\u001b[39m,\n\u001b[0;32m      8\u001b[0m         \u001b[38;5;124m\"\u001b[39m\u001b[38;5;124mcontent\u001b[39m\u001b[38;5;124m\"\u001b[39m: \u001b[38;5;124mf\u001b[39m\u001b[38;5;124m\"\"\"\u001b[39m\n\u001b[0;32m      9\u001b[0m \u001b[38;5;124m        # Please generate the story for testing student skills to read in English.\u001b[39m\n\u001b[0;32m     10\u001b[0m \u001b[38;5;124m        # Story should follow the following requirements: \u001b[39m\u001b[38;5;132;01m{\u001b[39;00mstory_requirements\u001b[38;5;132;01m}\u001b[39;00m\u001b[38;5;124m .\u001b[39m\n\u001b[0;32m     11\u001b[0m \u001b[38;5;124m        # Please write the story as your response in the following format: \u001b[39m\u001b[38;5;132;01m{\u001b[39;00mstory_format\u001b[38;5;132;01m}\u001b[39;00m\n\u001b[0;32m     12\u001b[0m \u001b[38;5;124m        #\u001b[39m\n\u001b[0;32m     13\u001b[0m \u001b[38;5;124m        # \u001b[39m\u001b[38;5;124m\"\"\"\u001b[39m\n\u001b[0;32m     14\u001b[0m         }\n\u001b[0;32m     15\u001b[0m       ],\n\u001b[0;32m     16\u001b[0m     )\n\u001b[0;32m     17\u001b[0m     \u001b[38;5;28mprint\u001b[39m (response\u001b[38;5;241m.\u001b[39mcontent[\u001b[38;5;241m0\u001b[39m]\u001b[38;5;241m.\u001b[39mtext)\n",
      "\u001b[1;31mNameError\u001b[0m: name 'client' is not defined"
     ]
    }
   ],
   "source": [
    "def generate_questions():\n",
    "    response = client.messages.create(\n",
    "      model=anthr_model,\n",
    "      max_tokens=100,\n",
    "      system = system_prompt,\n",
    "      messages=[\n",
    "        {\"role\": \"user\",\n",
    "        \"content\": f\"\"\"\n",
    "        # Please generate the story for testing student skills to read in English.\n",
    "        # Story should follow the following requirements: {story_requirements} .\n",
    "        # Please write the story as your response in the following format: {story_format}\n",
    "        #\n",
    "        # \"\"\"\n",
    "        }\n",
    "      ],\n",
    "    )\n",
    "    print (response.content[0].text)\n",
    "\n",
    "generate_questions()"
   ]
  },
  {
   "cell_type": "code",
   "execution_count": null,
   "metadata": {},
   "outputs": [],
   "source": [
    "from dotenv import load_dotenv\n",
    "import os\n",
    "from anthropic import Anthropic\n",
    "import base64\n",
    "\n",
    "#load environment variable\n",
    "load_dotenv()\n",
    "my_api_key = os.getenv(\"ANTHROPIC_API_KEY\")\n",
    "client = Anthropic()\n"
   ]
  }
 ],
 "metadata": {
  "kernelspec": {
   "display_name": "Python 3",
   "language": "python",
   "name": "python3"
  },
  "language_info": {
   "codemirror_mode": {
    "name": "ipython",
    "version": 3
   },
   "file_extension": ".py",
   "mimetype": "text/x-python",
   "name": "python",
   "nbconvert_exporter": "python",
   "pygments_lexer": "ipython3",
   "version": "3.12.7"
  }
 },
 "nbformat": 4,
 "nbformat_minor": 2
}
