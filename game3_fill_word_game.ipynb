{
 "cells": [
  {
   "cell_type": "markdown",
   "metadata": {},
   "source": [
    "**Gap Fill Game**\n",
    "\n",
    "A gap-fill game that focuses on different phonics patterns, sight words and reading skills"
   ]
  },
  {
   "cell_type": "markdown",
   "metadata": {},
   "source": [
    "**Step 1: Athropic import**"
   ]
  },
  {
   "cell_type": "code",
   "execution_count": 3,
   "metadata": {},
   "outputs": [
    {
     "ename": "ModuleNotFoundError",
     "evalue": "No module named 'dotenv'",
     "output_type": "error",
     "traceback": [
      "\u001b[1;31m---------------------------------------------------------------------------\u001b[0m",
      "\u001b[1;31mModuleNotFoundError\u001b[0m                       Traceback (most recent call last)",
      "Cell \u001b[1;32mIn[3], line 1\u001b[0m\n\u001b[1;32m----> 1\u001b[0m \u001b[38;5;28;01mfrom\u001b[39;00m \u001b[38;5;21;01mdotenv\u001b[39;00m \u001b[38;5;28;01mimport\u001b[39;00m load_dotenv\n\u001b[0;32m      2\u001b[0m \u001b[38;5;28;01mimport\u001b[39;00m \u001b[38;5;21;01mos\u001b[39;00m\n\u001b[0;32m      3\u001b[0m \u001b[38;5;28;01mfrom\u001b[39;00m \u001b[38;5;21;01manthropic\u001b[39;00m \u001b[38;5;28;01mimport\u001b[39;00m Anthropic\n",
      "\u001b[1;31mModuleNotFoundError\u001b[0m: No module named 'dotenv'"
     ]
    }
   ],
   "source": [
    "from dotenv import load_dotenv\n",
    "import os\n",
    "from anthropic import Anthropic\n",
    "# import base64\n",
    "\n",
    "#load environment variable\n",
    "load_dotenv()\n",
    "my_api_key = os.getenv(\"ANTHROPIC_API_KEY\")\n",
    "client = Anthropic()"
   ]
  },
  {
   "cell_type": "code",
   "execution_count": 101,
   "metadata": {},
   "outputs": [],
   "source": [
    "# print(\"test python\")"
   ]
  },
  {
   "cell_type": "markdown",
   "metadata": {},
   "source": [
    "**Step 2: Biuld the prompt requirements**"
   ]
  },
  {
   "cell_type": "code",
   "execution_count": 102,
   "metadata": {},
   "outputs": [],
   "source": [
    "system_prompt = \"\"\"\n",
    "You are an educational expert specialising in UK phonics and reading instruction for adult learners.\"\"\""
   ]
  },
  {
   "cell_type": "code",
   "execution_count": 103,
   "metadata": {},
   "outputs": [],
   "source": [
    "MODEL = \"claude-3-5-sonnet-20240620\""
   ]
  },
  {
   "cell_type": "code",
   "execution_count": 104,
   "metadata": {},
   "outputs": [],
   "source": [
    "pnonics_level_3 = f\"\"\"\n",
    "Focus on these phonics patterns:\n",
    "Split Digraphs:\n",
    "\n",
    "Long 'ā' sound using 'a_e' pattern (e.g., made, tape, gate)\n",
    "Long 'ē' sound using 'e_e' pattern (e.g., these, theme, complete)\n",
    "Long 'ō' sound using 'o_e' pattern (e.g., hope, smoke, note)\n",
    "Long 'ī' sound using 'i_e' pattern (e.g., ride, wine, like)\n",
    "Long 'ū' sound using 'u_e' pattern (e.g., cube, tune, use)\n",
    "\n",
    "\n",
    "Vowel Digraphs:\n",
    "\n",
    "'oo' pattern (e.g., shoot, book)\n",
    "'ue' pattern (e.g., cue)\n",
    "'ew' pattern (e.g., few)\n",
    "\n",
    "\n",
    "R-controlled Vowels:\n",
    "\n",
    "'er' pattern (e.g., her, term, better)\n",
    "'ur' pattern (e.g., burn, hurt, church)\n",
    "'ir' pattern (e.g., first, dirt, bird)\n",
    "\n",
    "\n",
    "Other Vowel Patterns:\n",
    "\n",
    "'ou' pattern for 'ow' sound (e.g., house)\n",
    "'ow' pattern for 'ow' sound (e.g., cow)\n",
    "'oi' pattern (e.g., soil)\n",
    "'oy' pattern (e.g., boy)\n",
    "\n",
    "Words used should follow only these patterns but aren't limited to the examples.\n",
    "\"\"\""
   ]
  },
  {
   "cell_type": "code",
   "execution_count": 105,
   "metadata": {},
   "outputs": [],
   "source": [
    "phonics_1 = \"\"\"Focus on these phonics patterns:\n",
    "Split Digraphs:\n",
    "\n",
    "Long 'ā' sound using 'a_e' pattern (e.g., made, tape, gate)\n",
    "Long 'ē' sound using 'e_e' pattern (e.g., these, theme, complete)\n",
    "Long 'ō' sound using 'o_e' pattern (e.g., hope, smoke, note)\n",
    "Long 'ī' sound using 'i_e' pattern (e.g., ride, wine, like)\n",
    "Long 'ū' sound using 'u_e' pattern (e.g., cube, tune, use)\"\"\""
   ]
  },
  {
   "cell_type": "code",
   "execution_count": 106,
   "metadata": {},
   "outputs": [],
   "source": [
    "phonics_2 = \"\"\"Focus on these phonics patterns:\n",
    "Split Digraphs:\n",
    "R-controlled Vowels:\n",
    "\n",
    "'er' pattern (e.g., her, term, better)\n",
    "'ur' pattern (e.g., burn, hurt, church)\n",
    "'ir' pattern (e.g., first, dirt, bird)\n",
    "\"\"\""
   ]
  },
  {
   "cell_type": "code",
   "execution_count": 107,
   "metadata": {},
   "outputs": [],
   "source": [
    "focus_sight_words = \"\"\"\"so\",\n",
    "            \"work\",\n",
    "            \"love\",\n",
    "            \"their\",\n",
    "            \"one\",\n",
    "            \"over\",\n",
    "            \"sure\",\n",
    "            \"two\",\n",
    "            \"knew\",\n",
    "            \"because\",\n",
    "            \"only\",\n",
    "            \"woman\",\n",
    "            \"done\",\n",
    "            \"does\",\n",
    "            \"other\"\n",
    "\"\"\""
   ]
  },
  {
   "cell_type": "markdown",
   "metadata": {},
   "source": [
    "**Choose focus_topic**"
   ]
  },
  {
   "cell_type": "code",
   "execution_count": 108,
   "metadata": {},
   "outputs": [
    {
     "name": "stdout",
     "output_type": "stream",
     "text": [
      "Focus on these phonics patterns:\n",
      "Split Digraphs:\n",
      "\n",
      "Long 'ā' sound using 'a_e' pattern (e.g., made, tape, gate)\n",
      "Long 'ē' sound using 'e_e' pattern (e.g., these, theme, complete)\n",
      "Long 'ō' sound using 'o_e' pattern (e.g., hope, smoke, note)\n",
      "Long 'ī' sound using 'i_e' pattern (e.g., ride, wine, like)\n",
      "Long 'ū' sound using 'u_e' pattern (e.g., cube, tune, use)\n"
     ]
    }
   ],
   "source": [
    "focus_topic = phonics_1\n",
    "print(focus_topic)"
   ]
  },
  {
   "cell_type": "code",
   "execution_count": 109,
   "metadata": {},
   "outputs": [],
   "source": [
    "pargth_nbr = 3"
   ]
  },
  {
   "cell_type": "code",
   "execution_count": 110,
   "metadata": {},
   "outputs": [],
   "source": [
    "target_group = \"adults (20-50 years) struggling with reading and having basic vocabulary and comprehension abilities\""
   ]
  },
  {
   "cell_type": "code",
   "execution_count": 111,
   "metadata": {},
   "outputs": [],
   "source": [
    "response_format = \"\"\"\n",
    "{\n",
    "  \"questions\": [\n",
    "    {\n",
    "      \"question_id\": \"1\",\n",
    "      \"question_type\": \"gap-fill\",\n",
    "      \"context\": \"[context category]\",\n",
    "      \"phonics\": \"[sound pattern]\",\n",
    "      \"pattern\": \"[spelling pattern]\",\n",
    "      \"question_text\": \"[paragraph with gaps]\",\n",
    "      \"gaps\": 2,\n",
    "      \"options\": [\"word\", \"word\"],\n",
    "      \"correct_order\": [\"word\", \"word\"]\n",
    "    }\n",
    "  ]\n",
    "}\"\"\""
   ]
  },
  {
   "cell_type": "code",
   "execution_count": 112,
   "metadata": {},
   "outputs": [],
   "source": [
    "example = \"\"\"\n",
    "{\n",
    "\"question_id\": \"2\",\n",
    "\"question_type\": \"gap-fill\",\n",
    "\"context\": \"Weather\",\n",
    "\"phonics\": \"'ow' sound and 'er' sound\",\n",
    "\"pattern\": \"ow, er\",\n",
    "\"question_text\": \"Dark clouds brought a heavy _____. The _____ report says it will clear up soon.\",\n",
    "\"gaps\": 2,\n",
    "\"options\": [\"shower\", \"weather\"],\n",
    "\"correct_order\": [\"shower\", \"weather\"]\n",
    "},\"\"\""
   ]
  },
  {
   "cell_type": "code",
   "execution_count": 113,
   "metadata": {},
   "outputs": [],
   "source": [
    "prompt_content = f\"\"\"\n",
    "Create a set of engaging gap-fill paragraphs following these specifications:\n",
    "{focus_topic}\n",
    "\n",
    "GUIDELINES:\n",
    "- Generate {pargth_nbr} paragraphs, each containing 2 gaps\n",
    "- Target audience: {target_group}\n",
    "- Paragraph should be clear and practical\n",
    "- Include sufficient context clues for comprehension\n",
    "\n",
    "LEARNING GOAL:\n",
    "- Reinforce phonics patterns\n",
    "- Improve word recognition\n",
    "- Develop contextual understanding\n",
    "\n",
    "TECHNICAL FORMAT:\n",
    "- Return response in this exact JSON structure:\n",
    "{response_format}\n",
    "\n",
    "EXAMPLE OF GOOD RESPOSE:\n",
    "{example}\n",
    "\n",
    "ADDITIONAL REQUIREMENTS:\n",
    "- Present options in random order\n",
    "- If using multiple phonics patterns, list all patterns used\n",
    "- Ensure all  sentences are grammatically correct and natural-sounding\n",
    "\"\"\""
   ]
  },
  {
   "cell_type": "code",
   "execution_count": 114,
   "metadata": {},
   "outputs": [
    {
     "name": "stdout",
     "output_type": "stream",
     "text": [
      "\n",
      "Create a set of engaging gap-fill paragraphs following these specifications:\n",
      "Focus on these phonics patterns:\n",
      "Split Digraphs:\n",
      "\n",
      "Long 'ā' sound using 'a_e' pattern (e.g., made, tape, gate)\n",
      "Long 'ē' sound using 'e_e' pattern (e.g., these, theme, complete)\n",
      "Long 'ō' sound using 'o_e' pattern (e.g., hope, smoke, note)\n",
      "Long 'ī' sound using 'i_e' pattern (e.g., ride, wine, like)\n",
      "Long 'ū' sound using 'u_e' pattern (e.g., cube, tune, use)\n",
      "\n",
      "GUIDELINES:\n",
      "- Generate 3 paragraphs, each containing 2 gaps\n",
      "- Target audience: adults (20-50 years) struggling with reading and having basic vocabulary and comprehension abilities\n",
      "- Paragraph should be clear and practical\n",
      "- Include sufficient context clues for comprehension\n",
      "\n",
      "LEARNING GOAL:\n",
      "- Reinforce phonics patterns\n",
      "- Improve word recognition\n",
      "- Develop contextual understanding\n",
      "\n",
      "TECHNICAL FORMAT:\n",
      "- Return response in this exact JSON structure:\n",
      "\n",
      "{\n",
      "  \"questions\": [\n",
      "    {\n",
      "      \"question_id\": \"1\",\n",
      "      \"question_type\": \"gap-fill\",\n",
      "      \"context\": \"[context category]\",\n",
      "      \"phonics\": \"[sound pattern]\",\n",
      "      \"pattern\": \"[spelling pattern]\",\n",
      "      \"question_text\": \"[paragraph with gaps]\",\n",
      "      \"gaps\": 2,\n",
      "      \"options\": [\"word\", \"word\"],\n",
      "      \"correct_order\": [\"word\", \"word\"]\n",
      "    }\n",
      "  ]\n",
      "}\n",
      "\n",
      "EXAMPLE OF GOOD RESPOSE:\n",
      "\n",
      "{\n",
      "\"question_id\": \"2\",\n",
      "\"question_type\": \"gap-fill\",\n",
      "\"context\": \"Weather\",\n",
      "\"phonics\": \"'ow' sound and 'er' sound\",\n",
      "\"pattern\": \"ow, er\",\n",
      "\"question_text\": \"Dark clouds brought a heavy _____. The _____ report says it will clear up soon.\",\n",
      "\"gaps\": 2,\n",
      "\"options\": [\"shower\", \"weather\"],\n",
      "\"correct_order\": [\"shower\", \"weather\"]\n",
      "},\n",
      "\n",
      "ADDITIONAL REQUIREMENTS:\n",
      "- Present options in random order\n",
      "- If using multiple phonics patterns, list all patterns used\n",
      "- Ensure all  sentences are grammatically correct and natural-sounding\n",
      "\n"
     ]
    }
   ],
   "source": [
    "print (prompt_content)"
   ]
  },
  {
   "cell_type": "markdown",
   "metadata": {},
   "source": [
    "**Step 3: generate prompt**"
   ]
  },
  {
   "cell_type": "code",
   "execution_count": null,
   "metadata": {},
   "outputs": [],
   "source": [
    "def generate_fill_gap_paragraph(prompt_content):\n",
    "    response = client.messages.create(\n",
    "      model=MODEL,\n",
    "      max_tokens=2000,\n",
    "      system = system_prompt,\n",
    "      messages=[\n",
    "        {\"role\": \"user\",\n",
    "        \"content\": prompt_content\n",
    "        }\n",
    "      ],\n",
    "    )\n",
    "    return (response)"
   ]
  },
  {
   "cell_type": "code",
   "execution_count": null,
   "metadata": {},
   "outputs": [],
   "source": [
    "fill_gap_paragraphs = generate_fill_gap_paragraph(prompt_content)\n",
    "fill_gap_paragraphs_json = fill_gap_paragraphs.content[0].text"
   ]
  },
  {
   "cell_type": "code",
   "execution_count": 120,
   "metadata": {},
   "outputs": [
    {
     "name": "stdout",
     "output_type": "stream",
     "text": [
      "Message(id='msg_01QahNfCq9eimb5nZuA4iVRC', content=[TextBlock(text='Here\\'s a set of engaging gap-fill paragraphs following your specifications:\\n\\n{\\n  \"questions\": [\\n    {\\n      \"question_id\": \"1\",\\n      \"question_type\": \"gap-fill\",\\n      \"context\": \"Home Improvement\",\\n      \"phonics\": \"Long \\'ā\\' sound and long \\'ō\\' sound\",\\n      \"pattern\": \"a_e, o_e\",\\n      \"question_text\": \"We decided to _____ our kitchen last month. The new stove makes it easier to _____ delicious meals for the family.\",\\n      \"gaps\": 2,\\n      \"options\": [\"make\", \"renovate\"],\\n      \"correct_order\": [\"renovate\", \"make\"]\\n    },\\n    {\\n      \"question_id\": \"2\",\\n      \"question_type\": \"gap-fill\",\\n      \"context\": \"Technology\",\\n      \"phonics\": \"Long \\'ū\\' sound and long \\'ē\\' sound\",\\n      \"pattern\": \"u_e, e_e\",\\n      \"question_text\": \"My new computer has a special _____ to play music. It also came with a _____ to help me learn how to use it.\",\\n      \"gaps\": 2,\\n      \"options\": [\"theme\", \"tune\"],\\n      \"correct_order\": [\"tune\", \"theme\"]\\n    },\\n    {\\n      \"question_id\": \"3\",\\n      \"question_type\": \"gap-fill\",\\n      \"context\": \"Transportation\",\\n      \"phonics\": \"Long \\'ī\\' sound and long \\'ā\\' sound\",\\n      \"pattern\": \"i_e, a_e\",\\n      \"question_text\": \"I like to _____ my bike to work when the weather is nice. It\\'s a great way to stay in shape and avoid traffic on the busy _____ roads.\",\\n      \"gaps\": 2,\\n      \"options\": [\"ride\", \"main\"],\\n      \"correct_order\": [\"ride\", \"main\"]\\n    }\\n  ]\\n}', type='text')], model='claude-3-5-sonnet-20240620', role='assistant', stop_reason='end_turn', stop_sequence=None, type='message', usage=Usage(input_tokens=581, output_tokens=470))\n",
      "{\n",
      "  \"questions\": [\n",
      "    {\n",
      "      \"question_id\": \"1\",\n",
      "      \"question_type\": \"gap-fill\",\n",
      "      \"context\": \"Home Improvement\",\n",
      "      \"phonics\": \"Long 'ā' sound and long 'ō' sound\",\n",
      "      \"pattern\": \"a_e, o_e\",\n",
      "      \"question_text\": \"We decided to _____ our kitchen last month. The new stove makes it easier to _____ delicious meals.\",\n",
      "      \"gaps\": 2,\n",
      "      \"options\": [\"make\", \"renovate\"],\n",
      "      \"correct_order\": [\"renovate\", \"make\"]\n",
      "    },\n",
      "    {\n",
      "      \"question_id\": \"2\",\n",
      "      \"question_type\": \"gap-fill\",\n",
      "      \"context\": \"Entertainment\",\n",
      "      \"phonics\": \"Long 'ē' sound and long 'ī' sound\",\n",
      "      \"pattern\": \"e_e, i_e\",\n",
      "      \"question_text\": \"The new movie _____ was exciting from start to finish. We liked it so much, we decided to _____ it again next week.\",\n",
      "      \"gaps\": 2,\n",
      "      \"options\": [\"theme\", \"ride\"],\n",
      "      \"correct_order\": [\"theme\", \"ride\"]\n",
      "    },\n",
      "    {\n",
      "      \"question_id\": \"3\",\n",
      "      \"question_type\": \"gap-fill\",\n",
      "      \"context\": \"Technology\",\n",
      "      \"phonics\": \"Long 'ū' sound and long 'ō' sound\",\n",
      "      \"pattern\": \"u_e, o_e\",\n",
      "      \"question_text\": \"The latest smartphone comes with a useful new _____. It can even remind you to _____ down your daily tasks.\",\n",
      "      \"gaps\": 2,\n",
      "      \"options\": [\"feature\", \"note\"],\n",
      "      \"correct_order\": [\"feature\", \"note\"]\n",
      "    }\n",
      "  ]\n",
      "}\n",
      "Usage(input_tokens=581, output_tokens=470)\n"
     ]
    }
   ],
   "source": [
    "print(fill_gap_paragraphs)\n",
    "print(fill_gap_paragraphs_json)\n",
    "print(fill_gap_paragraphs.usage)"
   ]
  },
  {
   "cell_type": "markdown",
   "metadata": {},
   "source": [
    "Message(id='msg_01VMWEzJhM3rMGgvowtNu5kb', content=[TextBlock(text='{\\n  \"questions\": [\\n    {\\n      \"question_id\": \"1\",\\n      \"question_type\": \"gap-fill\",\\n      \"context\": \"Home Improvement\",\\n      \"phonics\": \"Long \\'ā\\' sound and long \\'ō\\' sound\",\\n      \"pattern\": \"a_e, o_e\",\\n      \"question_text\": \"We decided to _____ our kitchen last month. The new stove makes it easier to _____ delicious meals.\",\\n      \"gaps\": 2,\\n      \"options\": [\"make\", \"renovate\"],\\n      \"correct_order\": [\"renovate\", \"make\"]\\n    },\\n    {\\n      \"question_id\": \"2\",\\n      \"question_type\": \"gap-fill\",\\n      \"context\": \"Entertainment\",\\n      \"phonics\": \"Long \\'ē\\' sound and long \\'ī\\' sound\",\\n      \"pattern\": \"e_e, i_e\",\\n      \"question_text\": \"The new movie _____ was exciting from start to finish. We liked it so much, we decided to _____ it again next week.\",\\n      \"gaps\": 2,\\n      \"options\": [\"theme\", \"ride\"],\\n      \"correct_order\": [\"theme\", \"ride\"]\\n    },\\n    {\\n      \"question_id\": \"3\",\\n      \"question_type\": \"gap-fill\",\\n      \"context\": \"Technology\",\\n      \"phonics\": \"Long \\'ū\\' sound and long \\'ō\\' sound\",\\n      \"pattern\": \"u_e, o_e\",\\n      \"question_text\": \"The latest smartphone comes with a useful new _____. It can even remind you to _____ down your daily tasks.\",\\n      \"gaps\": 2,\\n      \"options\": [\"feature\", \"note\"],\\n      \"correct_order\": [\"feature\", \"note\"]\\n    }\\n  ]\\n}', type='text')], model='claude-3-5-sonnet-20240620', role='assistant', stop_reason='end_turn', stop_sequence=None, type='message', usage=Usage(input_tokens=581, output_tokens=439))\n"
   ]
  },
  {
   "cell_type": "markdown",
   "metadata": {},
   "source": [
    "**Step 4: Check the answers\n",
    "**Complete these sentences by choosing the correct word from the brackets:\n"
   ]
  }
 ],
 "metadata": {
  "kernelspec": {
   "display_name": "Python 3",
   "language": "python",
   "name": "python3"
  },
  "language_info": {
   "codemirror_mode": {
    "name": "ipython",
    "version": 3
   },
   "file_extension": ".py",
   "mimetype": "text/x-python",
   "name": "python",
   "nbconvert_exporter": "python",
   "pygments_lexer": "ipython3",
   "version": "3.12.7"
  }
 },
 "nbformat": 4,
 "nbformat_minor": 2
}
