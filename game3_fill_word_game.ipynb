{
 "cells": [
  {
   "cell_type": "markdown",
   "metadata": {},
   "source": [
    "**Gap Fill Game**\n",
    "\n",
    "A gap-fill game that focuses on different phonics patterns, sight words and reading skills"
   ]
  },
  {
   "cell_type": "markdown",
   "metadata": {},
   "source": [
    "**Step 1: Athropic import**"
   ]
  },
  {
   "cell_type": "code",
   "execution_count": 20,
   "metadata": {},
   "outputs": [],
   "source": [
    "from dotenv import load_dotenv\n",
    "import os\n",
    "from anthropic import Anthropic\n",
    "# import base64\n",
    "\n",
    "#load environment variable\n",
    "load_dotenv()\n",
    "my_api_key = os.getenv(\"ANTHROPIC_API_KEY\")\n",
    "client = Anthropic()"
   ]
  },
  {
   "cell_type": "code",
   "execution_count": 21,
   "metadata": {},
   "outputs": [],
   "source": [
    "# print(\"test python\")"
   ]
  },
  {
   "cell_type": "markdown",
   "metadata": {},
   "source": [
    "**Step 2: Biuld the prompt requirements**"
   ]
  },
  {
   "cell_type": "code",
   "execution_count": 22,
   "metadata": {},
   "outputs": [],
   "source": [
    "system_prompt = \"\"\"\n",
    "You are an educational expert specialising in UK phonics and reading instruction for adult learners.\"\"\""
   ]
  },
  {
   "cell_type": "code",
   "execution_count": 23,
   "metadata": {},
   "outputs": [],
   "source": [
    "MODEL = \"claude-3-5-sonnet-20240620\""
   ]
  },
  {
   "cell_type": "code",
   "execution_count": null,
   "metadata": {},
   "outputs": [],
   "source": [
    "text_context = \"\"\"Paragraph should be clear and practical.\"\"\""
   ]
  },
  {
   "cell_type": "code",
   "execution_count": 25,
   "metadata": {},
   "outputs": [],
   "source": [
    "pnonics_level_3 = f\"\"\"\n",
    "Focus on these phonics patterns:\n",
    "Split Digraphs:\n",
    "\n",
    "Long 'ā' sound using 'a_e' pattern (e.g., made, tape, gate)\n",
    "Long 'ē' sound using 'e_e' pattern (e.g., these, theme, complete)\n",
    "Long 'ō' sound using 'o_e' pattern (e.g., hope, smoke, note)\n",
    "Long 'ī' sound using 'i_e' pattern (e.g., ride, wine, like)\n",
    "Long 'ū' sound using 'u_e' pattern (e.g., cube, tune, use)\n",
    "\n",
    "\n",
    "Vowel Digraphs:\n",
    "\n",
    "'oo' pattern (e.g., shoot, book)\n",
    "'ue' pattern (e.g., cue)\n",
    "'ew' pattern (e.g., few)\n",
    "\n",
    "\n",
    "R-controlled Vowels:\n",
    "\n",
    "'er' pattern (e.g., her, term, better)\n",
    "'ur' pattern (e.g., burn, hurt, church)\n",
    "'ir' pattern (e.g., first, dirt, bird)\n",
    "\n",
    "\n",
    "Other Vowel Patterns:\n",
    "\n",
    "'ou' pattern for 'ow' sound (e.g., house)\n",
    "'ow' pattern for 'ow' sound (e.g., cow)\n",
    "'oi' pattern (e.g., soil)\n",
    "'oy' pattern (e.g., boy)\n",
    "\n",
    "Words used should follow only these patterns but aren't limited to the examples.\n",
    "\"\"\""
   ]
  },
  {
   "cell_type": "code",
   "execution_count": 26,
   "metadata": {},
   "outputs": [],
   "source": [
    "phonics_1 = \"\"\"Focus on these phonics patterns:\n",
    "Split Digraphs:\n",
    "\n",
    "Long 'ā' sound using 'a_e' pattern (e.g., made, tape, gate)\n",
    "Long 'ē' sound using 'e_e' pattern (e.g., these, theme, complete)\n",
    "Long 'ō' sound using 'o_e' pattern (e.g., hope, smoke, note)\n",
    "Long 'ī' sound using 'i_e' pattern (e.g., ride, wine, like)\n",
    "Long 'ū' sound using 'u_e' pattern (e.g., cube, tune, use)\"\"\""
   ]
  },
  {
   "cell_type": "code",
   "execution_count": 27,
   "metadata": {},
   "outputs": [],
   "source": [
    "focus_sight_words = \"\"\"\"so\",\n",
    "            \"work\",\n",
    "            \"love\",\n",
    "            \"their\",\n",
    "            \"one\",\n",
    "            \"over\",\n",
    "            \"sure\",\n",
    "            \"two\",\n",
    "            \"knew\",\n",
    "            \"because\",\n",
    "            \"only\",\n",
    "            \"woman\",\n",
    "            \"done\",\n",
    "            \"does\",\n",
    "            \"other\"\n",
    "\"\"\""
   ]
  },
  {
   "cell_type": "code",
   "execution_count": 30,
   "metadata": {},
   "outputs": [
    {
     "name": "stdout",
     "output_type": "stream",
     "text": [
      "Focus on these phonics patterns:\n",
      "Split Digraphs:\n",
      "\n",
      "Long 'ā' sound using 'a_e' pattern (e.g., made, tape, gate)\n",
      "Long 'ē' sound using 'e_e' pattern (e.g., these, theme, complete)\n",
      "Long 'ō' sound using 'o_e' pattern (e.g., hope, smoke, note)\n",
      "Long 'ī' sound using 'i_e' pattern (e.g., ride, wine, like)\n",
      "Long 'ū' sound using 'u_e' pattern (e.g., cube, tune, use)\n"
     ]
    }
   ],
   "source": [
    "focus_topic = phonics_1\n",
    "print(focus_topic)"
   ]
  },
  {
   "cell_type": "code",
   "execution_count": 10,
   "metadata": {},
   "outputs": [],
   "source": [
    "sentences_nbr = 3"
   ]
  },
  {
   "cell_type": "code",
   "execution_count": 11,
   "metadata": {},
   "outputs": [],
   "source": [
    "target_group = \"adults (20-50 years) struggling with reading\""
   ]
  },
  {
   "cell_type": "code",
   "execution_count": null,
   "metadata": {},
   "outputs": [],
   "source": [
    "target_skills = \"\"\"\n",
    "- Improve word recognition\n",
    "- Develop contextual understanding\n",
    "- Reinforce phonics patterns\n",
    "\"\"\""
   ]
  },
  {
   "cell_type": "code",
   "execution_count": null,
   "metadata": {},
   "outputs": [],
   "source": [
    "response_format = \"\"\"\n",
    "{\n",
    "  \"questions\": [\n",
    "    {\n",
    "      \"question_id\": \"1\",\n",
    "      \"question_type\": \"gap-fill\",\n",
    "      \"context\": \"[context category]\",\n",
    "      \"phonics\": \"[sound pattern]\",\n",
    "      \"pattern\": \"[spelling pattern]\",\n",
    "      \"question_text\": \"[sentence with _______ gaps]\",\n",
    "      \"gaps\": 2,\n",
    "      \"options\": [\"word\", \"word\"],\n",
    "      \"correct_order\": [\"word\", \"word\"]\n",
    "    }\n",
    "  ]\n",
    "}\n",
    "\"\"\""
   ]
  },
  {
   "cell_type": "code",
   "execution_count": 14,
   "metadata": {},
   "outputs": [],
   "source": [
    "prompt_content = f\"\"\"\n",
    "Create a set of engaging gap-fill sentences following these specifications:\n",
    "{focus_topic}\n",
    "CONTENT REQUIREMENTS:\n",
    "- Generate {sentences_nbr} sentences, each containing 2 gaps\n",
    "SENTENCE GUIDELINES:\n",
    "- Target audience: {target_group}\n",
    "{text_context}\n",
    "- Include sufficient context clues for comprehension\n",
    "\n",
    "LEARNING OBJECTIVES:\n",
    "- {target_skills}\n",
    "\n",
    "TECHNICAL FORMAT:\n",
    "- Return response in this exact JSON structure:\n",
    "{response_format}\n",
    "\n",
    "ADDITIONAL REQUIREMENTS:\n",
    "- Present options in random order\n",
    "- If using multiple phonics patterns, list all patterns used\n",
    "- Ensure sentences are grammatically correct and natural-sounding\n",
    "- Make context appropriate for adult learners.\n",
    "\"\"\""
   ]
  },
  {
   "cell_type": "code",
   "execution_count": 15,
   "metadata": {},
   "outputs": [
    {
     "name": "stdout",
     "output_type": "stream",
     "text": [
      "\n",
      "Create a set of engaging gap-fill sentences following these specifications:\n",
      "\n",
      "Focus on these phonics patterns:\n",
      "Split Digraphs:\n",
      "\n",
      "Long 'ā' sound using 'a_e' pattern (e.g., made, tape, gate)\n",
      "Long 'ē' sound using 'e_e' pattern (e.g., these, theme, complete)\n",
      "Long 'ō' sound using 'o_e' pattern (e.g., hope, smoke, note)\n",
      "Long 'ī' sound using 'i_e' pattern (e.g., ride, wine, like)\n",
      "Long 'ū' sound using 'u_e' pattern (e.g., cube, tune, use)\n",
      "\n",
      "\n",
      "Vowel Digraphs:\n",
      "\n",
      "'oo' pattern (e.g., shoot, book)\n",
      "'ue' pattern (e.g., cue)\n",
      "'ew' pattern (e.g., few)\n",
      "\n",
      "\n",
      "R-controlled Vowels:\n",
      "\n",
      "'er' pattern (e.g., her, term, better)\n",
      "'ur' pattern (e.g., burn, hurt, church)\n",
      "'ir' pattern (e.g., first, dirt, bird)\n",
      "\n",
      "\n",
      "Other Vowel Patterns:\n",
      "\n",
      "'ou' pattern for 'ow' sound (e.g., house)\n",
      "'ow' pattern for 'ow' sound (e.g., cow)\n",
      "'oi' pattern (e.g., soil)\n",
      "'oy' pattern (e.g., boy)\n",
      "\n",
      "Words used should follow only these patterns but aren't limited to the examples.\n",
      "\n",
      "CONTENT REQUIREMENTS:\n",
      "- Generate 3 sentences, each containing 2 gaps\n",
      "SENTENCE GUIDELINES:\n",
      "- Target audience: adults (20-50 years) struggling with reading\n",
      "Sentences should be clear and practical.\n",
      "- Include sufficient context clues for comprehension\n",
      "\n",
      "LEARNING OBJECTIVES:\n",
      "- \n",
      "- Improve word recognition\n",
      "- Develop contextual understanding\n",
      "- Expand vocabulary\n",
      "- Reinforce phonics patterns\n",
      "\n",
      "\n",
      "TECHNICAL FORMAT:\n",
      "- Return response in this exact JSON structure:\n",
      "\n",
      "{\n",
      "  \"questions\": [\n",
      "    {\n",
      "      \"question_id\": \"1\",\n",
      "      \"question_type\": \"gap-fill\",\n",
      "      \"context\": \"[context category]\",\n",
      "      \"phonics\": \"[sound pattern]\",\n",
      "      \"pattern\": \"[spelling pattern]\",\n",
      "      \"question_text\": \"[sentence with _______ gaps]\",\n",
      "      \"gaps\": 2,\n",
      "      \"options\": [\"word1\", \"word2\"],\n",
      "      \"correct_order\": [\"word1\", \"word2\"]\n",
      "    }\n",
      "  ]\n",
      "}\n",
      "\n",
      "\n",
      "ADDITIONAL REQUIREMENTS:\n",
      "- Present options in random order\n",
      "- If using multiple phonics patterns, list all patterns used\n",
      "- Ensure sentences are grammatically correct and natural-sounding\n",
      "- Make context appropriate for adult learners.\n",
      "\n"
     ]
    }
   ],
   "source": [
    "print (prompt_content)"
   ]
  },
  {
   "cell_type": "markdown",
   "metadata": {},
   "source": [
    "**Step 3: generate prompt**"
   ]
  },
  {
   "cell_type": "code",
   "execution_count": 16,
   "metadata": {},
   "outputs": [],
   "source": [
    "def generate_fill_gap_sentences(prompt_content):\n",
    "    response = client.messages.create(\n",
    "      model=MODEL,\n",
    "      max_tokens=2000,\n",
    "      system = system_prompt,\n",
    "      messages=[\n",
    "        {\"role\": \"user\",\n",
    "        \"content\": prompt_content\n",
    "        }\n",
    "      ],\n",
    "    )\n",
    "    return (response)"
   ]
  },
  {
   "cell_type": "code",
   "execution_count": 17,
   "metadata": {},
   "outputs": [],
   "source": [
    "fill_gap_sentences = generate_fill_gap_sentences(prompt_content)\n",
    "fill_gap_sentences_json = fill_gap_sentences.content[0].text"
   ]
  },
  {
   "cell_type": "code",
   "execution_count": 18,
   "metadata": {},
   "outputs": [
    {
     "name": "stdout",
     "output_type": "stream",
     "text": [
      "{\n",
      "  \"questions\": [\n",
      "    {\n",
      "      \"question_id\": \"1\",\n",
      "      \"question_type\": \"gap-fill\",\n",
      "      \"context\": \"Daily routine\",\n",
      "      \"phonics\": \"Long 'ā' sound, Long 'ō' sound\",\n",
      "      \"pattern\": \"a_e, o_e\",\n",
      "      \"question_text\": \"After a long day at work, I like to _______ a relaxing bath and _______ a good book.\",\n",
      "      \"gaps\": 2,\n",
      "      \"options\": [\"take\", \"hope\"],\n",
      "      \"correct_order\": [\"take\", \"hope\"]\n",
      "    },\n",
      "    {\n",
      "      \"question_id\": \"2\",\n",
      "      \"question_type\": \"gap-fill\",\n",
      "      \"context\": \"Outdoor activities\",\n",
      "      \"phonics\": \"'oo' sound, 'er' sound\",\n",
      "      \"pattern\": \"oo, er\",\n",
      "      \"question_text\": \"On a sunny afternoon, we decided to _______ our bikes to the park and feed the _______ by the pond.\",\n",
      "      \"gaps\": 2,\n",
      "      \"options\": [\"shoot\", \"ducks\"],\n",
      "      \"correct_order\": [\"shoot\", \"ducks\"]\n",
      "    },\n",
      "    {\n",
      "      \"question_id\": \"3\",\n",
      "      \"question_type\": \"gap-fill\",\n",
      "      \"context\": \"Home maintenance\",\n",
      "      \"phonics\": \"Long 'ū' sound, 'ow' sound\",\n",
      "      \"pattern\": \"u_e, ow\",\n",
      "      \"question_text\": \"I need to _______ the plumber to fix the leaky pipe under the kitchen _______ before it gets worse.\",\n",
      "      \"gaps\": 2,\n",
      "      \"options\": [\"use\", \"sink\"],\n",
      "      \"correct_order\": [\"use\", \"sink\"]\n",
      "    }\n",
      "  ]\n",
      "}\n"
     ]
    }
   ],
   "source": [
    "# print(fill_gap_sentences)\n",
    "print(fill_gap_sentences_json)"
   ]
  },
  {
   "cell_type": "markdown",
   "metadata": {},
   "source": [
    "**Step 4: Check the answers\n",
    "**Complete these sentences by choosing the correct word from the brackets:\n"
   ]
  }
 ],
 "metadata": {
  "kernelspec": {
   "display_name": "Python 3",
   "language": "python",
   "name": "python3"
  },
  "language_info": {
   "codemirror_mode": {
    "name": "ipython",
    "version": 3
   },
   "file_extension": ".py",
   "mimetype": "text/x-python",
   "name": "python",
   "nbconvert_exporter": "python",
   "pygments_lexer": "ipython3",
   "version": "3.12.7"
  }
 },
 "nbformat": 4,
 "nbformat_minor": 2
}
